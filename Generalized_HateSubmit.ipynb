{
 "cells": [
  {
   "cell_type": "code",
   "execution_count": 1,
   "metadata": {},
   "outputs": [],
   "source": [
    "import pandas as pd\n",
    "import numpy as np\n",
    "import nltk"
   ]
  },
  {
   "cell_type": "code",
   "execution_count": 2,
   "metadata": {},
   "outputs": [],
   "source": [
    "from sklearn.model_selection import train_test_split\n",
    "from sklearn.feature_extraction.text import CountVectorizer\n",
    "from sklearn.metrics import accuracy_score, precision_score"
   ]
  },
  {
   "cell_type": "code",
   "execution_count": 3,
   "metadata": {},
   "outputs": [],
   "source": [
    "df = pd.read_csv(\"GH(AUC0.58)Dataset.csv\")"
   ]
  },
  {
   "cell_type": "code",
   "execution_count": 4,
   "metadata": {},
   "outputs": [
    {
     "data": {
      "text/html": [
       "<div>\n",
       "<style scoped>\n",
       "    .dataframe tbody tr th:only-of-type {\n",
       "        vertical-align: middle;\n",
       "    }\n",
       "\n",
       "    .dataframe tbody tr th {\n",
       "        vertical-align: top;\n",
       "    }\n",
       "\n",
       "    .dataframe thead th {\n",
       "        text-align: right;\n",
       "    }\n",
       "</style>\n",
       "<table border=\"1\" class=\"dataframe\">\n",
       "  <thead>\n",
       "    <tr style=\"text-align: right;\">\n",
       "      <th></th>\n",
       "      <th>id</th>\n",
       "      <th>text</th>\n",
       "      <th>Generalized_Hate</th>\n",
       "    </tr>\n",
       "  </thead>\n",
       "  <tbody>\n",
       "    <tr>\n",
       "      <th>0</th>\n",
       "      <td>1048693288809590784</td>\n",
       "      <td>dailytelegraph ’ s pwafork says the allegation...</td>\n",
       "      <td>0</td>\n",
       "    </tr>\n",
       "    <tr>\n",
       "      <th>1</th>\n",
       "      <td>1051816186516664320</td>\n",
       "      <td>richcraigfletch terrolllewis danielslaney i be...</td>\n",
       "      <td>0</td>\n",
       "    </tr>\n",
       "    <tr>\n",
       "      <th>2</th>\n",
       "      <td>1052061176396431360</td>\n",
       "      <td>times have changed theres a new sheriff in tow...</td>\n",
       "      <td>0</td>\n",
       "    </tr>\n",
       "    <tr>\n",
       "      <th>3</th>\n",
       "      <td>1051674207749210113</td>\n",
       "      <td>falsefly what a grot im familiar with this typ...</td>\n",
       "      <td>0</td>\n",
       "    </tr>\n",
       "    <tr>\n",
       "      <th>4</th>\n",
       "      <td>1052135641570533376</td>\n",
       "      <td>metoo chetan bhagat ridicules ira trivedi ’ s ...</td>\n",
       "      <td>0</td>\n",
       "    </tr>\n",
       "  </tbody>\n",
       "</table>\n",
       "</div>"
      ],
      "text/plain": [
       "                    id                                               text  \\\n",
       "0  1048693288809590784  dailytelegraph ’ s pwafork says the allegation...   \n",
       "1  1051816186516664320  richcraigfletch terrolllewis danielslaney i be...   \n",
       "2  1052061176396431360  times have changed theres a new sheriff in tow...   \n",
       "3  1051674207749210113  falsefly what a grot im familiar with this typ...   \n",
       "4  1052135641570533376  metoo chetan bhagat ridicules ira trivedi ’ s ...   \n",
       "\n",
       "   Generalized_Hate  \n",
       "0                 0  \n",
       "1                 0  \n",
       "2                 0  \n",
       "3                 0  \n",
       "4                 0  "
      ]
     },
     "execution_count": 4,
     "metadata": {},
     "output_type": "execute_result"
    }
   ],
   "source": [
    "df.head()"
   ]
  },
  {
   "cell_type": "code",
   "execution_count": 5,
   "metadata": {},
   "outputs": [
    {
     "data": {
      "text/html": [
       "<div>\n",
       "<style scoped>\n",
       "    .dataframe tbody tr th:only-of-type {\n",
       "        vertical-align: middle;\n",
       "    }\n",
       "\n",
       "    .dataframe tbody tr th {\n",
       "        vertical-align: top;\n",
       "    }\n",
       "\n",
       "    .dataframe thead th {\n",
       "        text-align: right;\n",
       "    }\n",
       "</style>\n",
       "<table border=\"1\" class=\"dataframe\">\n",
       "  <thead>\n",
       "    <tr style=\"text-align: right;\">\n",
       "      <th></th>\n",
       "      <th>id</th>\n",
       "      <th>text</th>\n",
       "      <th>Generalized_Hate</th>\n",
       "    </tr>\n",
       "  </thead>\n",
       "  <tbody>\n",
       "    <tr>\n",
       "      <th>487</th>\n",
       "      <td>1052278270673256448</td>\n",
       "      <td>metoo nice candidate philbredesen kept sexual ...</td>\n",
       "      <td>0</td>\n",
       "    </tr>\n",
       "    <tr>\n",
       "      <th>488</th>\n",
       "      <td>1051988967585972225</td>\n",
       "      <td>this is not metoo barrister says groping cop i...</td>\n",
       "      <td>0</td>\n",
       "    </tr>\n",
       "    <tr>\n",
       "      <th>489</th>\n",
       "      <td>1049973338372632578</td>\n",
       "      <td>taxidermy deathshead moth by oddity asylum tax...</td>\n",
       "      <td>0</td>\n",
       "    </tr>\n",
       "    <tr>\n",
       "      <th>490</th>\n",
       "      <td>1052208827393695745</td>\n",
       "      <td>domestic violence awareness hasn ’ t caught up...</td>\n",
       "      <td>0</td>\n",
       "    </tr>\n",
       "    <tr>\n",
       "      <th>491</th>\n",
       "      <td>1051904344541618177</td>\n",
       "      <td>college student allegedly raped hours after at...</td>\n",
       "      <td>1</td>\n",
       "    </tr>\n",
       "  </tbody>\n",
       "</table>\n",
       "</div>"
      ],
      "text/plain": [
       "                      id                                               text  \\\n",
       "487  1052278270673256448  metoo nice candidate philbredesen kept sexual ...   \n",
       "488  1051988967585972225  this is not metoo barrister says groping cop i...   \n",
       "489  1049973338372632578  taxidermy deathshead moth by oddity asylum tax...   \n",
       "490  1052208827393695745  domestic violence awareness hasn ’ t caught up...   \n",
       "491  1051904344541618177  college student allegedly raped hours after at...   \n",
       "\n",
       "     Generalized_Hate  \n",
       "487                 0  \n",
       "488                 0  \n",
       "489                 0  \n",
       "490                 0  \n",
       "491                 1  "
      ]
     },
     "execution_count": 5,
     "metadata": {},
     "output_type": "execute_result"
    }
   ],
   "source": [
    "df.tail()"
   ]
  },
  {
   "cell_type": "code",
   "execution_count": 6,
   "metadata": {},
   "outputs": [],
   "source": [
    "from sklearn.metrics import roc_auc_score"
   ]
  },
  {
   "cell_type": "code",
   "execution_count": 13,
   "metadata": {},
   "outputs": [],
   "source": [
    "X_train, X_test, y_train, y_test = train_test_split(df['text'], \n",
    "                                                    df['Generalized_Hate'],test_size=0.2,\n",
    "                                                    random_state=42)"
   ]
  },
  {
   "cell_type": "code",
   "execution_count": 14,
   "metadata": {},
   "outputs": [],
   "source": [
    "count_vector = CountVectorizer(stop_words = 'english')"
   ]
  },
  {
   "cell_type": "code",
   "execution_count": 15,
   "metadata": {},
   "outputs": [],
   "source": [
    "training_data = count_vector.fit_transform(X_train)"
   ]
  },
  {
   "cell_type": "code",
   "execution_count": 16,
   "metadata": {},
   "outputs": [],
   "source": [
    "testing_data = count_vector.transform(X_test)"
   ]
  },
  {
   "cell_type": "code",
   "execution_count": 17,
   "metadata": {},
   "outputs": [],
   "source": [
    "from sklearn.naive_bayes import MultinomialNB\n",
    "#from sklearn.svm import SVC\n",
    "naive_bayes = MultinomialNB()\n",
    "naive_bayes.fit(training_data, y_train)\n",
    "predictionsNB = naive_bayes.predict(testing_data)"
   ]
  },
  {
   "cell_type": "code",
   "execution_count": 18,
   "metadata": {},
   "outputs": [
    {
     "name": "stdout",
     "output_type": "stream",
     "text": [
      "Accuracy score:  0.8080808080808081\n",
      "28 13\n",
      "0.6823440643863179\n"
     ]
    }
   ],
   "source": [
    "print('Accuracy score: ', format(accuracy_score(y_test, predictionsNB)))\n",
    "print(sum(y_test),sum(predictionsNB))\n",
    "print(roc_auc_score(y_test, predictionsNB))"
   ]
  },
  {
   "cell_type": "code",
   "execution_count": 19,
   "metadata": {},
   "outputs": [],
   "source": [
    "from sklearn import svm\n",
    "SVC_model = svm.SVC()\n",
    "SVC_model.fit(training_data, y_train)\n",
    "predictionsSVM = SVC_model.predict(testing_data)"
   ]
  },
  {
   "cell_type": "code",
   "execution_count": 20,
   "metadata": {},
   "outputs": [
    {
     "name": "stdout",
     "output_type": "stream",
     "text": [
      "Accuracy score:  0.7272727272727273\n",
      "28 1\n",
      "0.5178571428571429\n"
     ]
    }
   ],
   "source": [
    "print('Accuracy score: ', format(accuracy_score(y_test, predictionsSVM)))\n",
    "print(sum(y_test),sum(predictionsSVM))\n",
    "print(roc_auc_score(y_test, predictionsSVM))"
   ]
  },
  {
   "cell_type": "code",
   "execution_count": 21,
   "metadata": {},
   "outputs": [],
   "source": [
    "from sklearn.ensemble import RandomForestClassifier\n",
    "\n",
    "#Create a Gaussian Classifier\n",
    "clf=RandomForestClassifier(n_estimators=1000)\n",
    "\n",
    "#Train the model using the training sets y_pred=clf.predict(X_test)\n",
    "clf.fit(training_data, y_train)\n",
    "\n",
    "predictionsRF=clf.predict(testing_data)"
   ]
  },
  {
   "cell_type": "code",
   "execution_count": 22,
   "metadata": {},
   "outputs": [
    {
     "name": "stdout",
     "output_type": "stream",
     "text": [
      "Accuracy score:  0.8080808080808081\n",
      "28 9\n",
      "0.6607142857142857\n"
     ]
    }
   ],
   "source": [
    "print('Accuracy score: ', format(accuracy_score(y_test, predictionsRF)))\n",
    "print(sum(y_test),sum(predictionsRF))\n",
    "print(roc_auc_score(y_test, predictionsRF))"
   ]
  },
  {
   "cell_type": "code",
   "execution_count": 23,
   "metadata": {},
   "outputs": [],
   "source": [
    "df2= pd.read_csv(\"GHTestAUC0.58.csv\")"
   ]
  },
  {
   "cell_type": "code",
   "execution_count": 25,
   "metadata": {},
   "outputs": [],
   "source": [
    "testing_data2 = count_vector.transform(df2['text'])\n",
    "y_test2 = df2['Generalized_Hate']"
   ]
  },
  {
   "cell_type": "code",
   "execution_count": 26,
   "metadata": {},
   "outputs": [
    {
     "name": "stdout",
     "output_type": "stream",
     "text": [
      "Accuracy score:  0.7620104645631838\n",
      "47 1492\n",
      "0.5844759023859697\n",
      "Accuracy score:  0.9743142540034881\n",
      "47 117\n",
      "0.5013731221534905\n",
      "Accuracy score:  0.8672903123513557\n",
      "47 808\n",
      "0.5319267894772619\n"
     ]
    }
   ],
   "source": [
    "predictionsNB2 = naive_bayes.predict(testing_data2)\n",
    "print('Accuracy score: ', format(accuracy_score(y_test2, predictionsNB2)))\n",
    "print(sum(y_test2),sum(predictionsNB2))\n",
    "print(roc_auc_score(y_test2, predictionsNB2))\n",
    "\n",
    "predictionsSVM2 = SVC_model.predict(testing_data2)\n",
    "print('Accuracy score: ', format(accuracy_score(y_test2, predictionsSVM2)))\n",
    "print(sum(y_test2),sum(predictionsSVM2))\n",
    "print(roc_auc_score(y_test2, predictionsSVM2))\n",
    "\n",
    "predictionsRF2=clf.predict(testing_data2)\n",
    "print('Accuracy score: ', format(accuracy_score(y_test2, predictionsRF2)))\n",
    "print(sum(y_test2),sum(predictionsRF2))\n",
    "print(roc_auc_score(y_test2, predictionsRF2))\n",
    "\n",
    "#after this own dataset can be used with necessary cleaning and classified"
   ]
  },
  {
   "cell_type": "code",
   "execution_count": null,
   "metadata": {},
   "outputs": [],
   "source": []
  }
 ],
 "metadata": {
  "kernelspec": {
   "display_name": "Python 3",
   "language": "python",
   "name": "python3"
  },
  "language_info": {
   "codemirror_mode": {
    "name": "ipython",
    "version": 3
   },
   "file_extension": ".py",
   "mimetype": "text/x-python",
   "name": "python",
   "nbconvert_exporter": "python",
   "pygments_lexer": "ipython3",
   "version": "3.7.6"
  }
 },
 "nbformat": 4,
 "nbformat_minor": 4
}
