{
 "cells": [
  {
   "cell_type": "code",
   "execution_count": 205,
   "metadata": {},
   "outputs": [],
   "source": [
    "import pandas as pd\n",
    "import numpy as np\n",
    "import nltk"
   ]
  },
  {
   "cell_type": "code",
   "execution_count": 206,
   "metadata": {},
   "outputs": [],
   "source": [
    "import re\n",
    "import string\n",
    "\n",
    "def clean_text_round1(text):\n",
    "    '''Make text lowercase, remove text in square brackets, remove punctuation and remove words containing numbers.'''\n",
    "    text = text.lower()\n",
    "    text = re.sub('\\[.*?\\]', '', text)\n",
    "    text = re.sub('[%s]' % re.escape(string.punctuation), '', text)\n",
    "    text = re.sub('\\w*\\d\\w*', '', text)\n",
    "    return text\n",
    "\n",
    "round1 = lambda x: clean_text_round1(x)"
   ]
  },
  {
   "cell_type": "code",
   "execution_count": 207,
   "metadata": {},
   "outputs": [],
   "source": [
    "data =  pd.read_csv(\"MainData.csv\")"
   ]
  },
  {
   "cell_type": "code",
   "execution_count": 208,
   "metadata": {},
   "outputs": [],
   "source": [
    "data['text']=data['text'].apply(round1)"
   ]
  },
  {
   "cell_type": "code",
   "execution_count": 209,
   "metadata": {},
   "outputs": [],
   "source": [
    "from nltk.tokenize import word_tokenize\n",
    "def token(list):\n",
    "    return (word_tokenize(list))\n",
    "data['text']=data['text'].apply(token)"
   ]
  },
  {
   "cell_type": "code",
   "execution_count": 210,
   "metadata": {},
   "outputs": [],
   "source": [
    "from nltk.stem import wordnet\n",
    "from nltk.stem import WordNetLemmatizer\n",
    "word_lem=WordNetLemmatizer()\n",
    "for review in data['text']:\n",
    "    for word in review:\n",
    "        word_lem.lemmatize(word)\n",
    "def untokenize(list):\n",
    "    return ' '.join(list)\n",
    "data['text']=data['text'].apply(untokenize)"
   ]
  },
  {
   "cell_type": "code",
   "execution_count": 211,
   "metadata": {},
   "outputs": [],
   "source": [
    "textList = data['text']\n",
    "Texttrain = data['Text_Only_Informative']\n",
    "tweetId = data['id']"
   ]
  },
  {
   "cell_type": "code",
   "execution_count": 212,
   "metadata": {},
   "outputs": [
    {
     "name": "stdout",
     "output_type": "stream",
     "text": [
      "1701\n"
     ]
    }
   ],
   "source": [
    "lst0 = []\n",
    "lst1 = []\n",
    "text0  = []\n",
    "text1 = []\n",
    "id0 = []\n",
    "id1 = []\n",
    "count0 = 0\n",
    "count1 = 0\n",
    "for i in range(len(Texttrain)):\n",
    "    if Texttrain[i] == 0:\n",
    "        if count0 <=1700 :\n",
    "            lst0.append(0)\n",
    "            text0.append(textList[i])\n",
    "            id0.append(tweetId[i])\n",
    "            count0 +=1\n",
    "        else:\n",
    "            pass\n",
    "    else:\n",
    "        if count1 <=4000:\n",
    "            lst1.append(1)\n",
    "            text1.append(textList[i])\n",
    "            id1.append(tweetId[i])\n",
    "            count1+=1\n",
    "        else:\n",
    "            pass\n",
    "\n",
    "print(len(id0))"
   ]
  },
  {
   "cell_type": "code",
   "execution_count": null,
   "metadata": {},
   "outputs": [],
   "source": []
  },
  {
   "cell_type": "code",
   "execution_count": 213,
   "metadata": {},
   "outputs": [],
   "source": [
    "df = pd.read_csv(\"Text(AUC0.50)Dataset.csv\")"
   ]
  },
  {
   "cell_type": "code",
   "execution_count": 214,
   "metadata": {},
   "outputs": [
    {
     "data": {
      "text/html": [
       "<div>\n",
       "<style scoped>\n",
       "    .dataframe tbody tr th:only-of-type {\n",
       "        vertical-align: middle;\n",
       "    }\n",
       "\n",
       "    .dataframe tbody tr th {\n",
       "        vertical-align: top;\n",
       "    }\n",
       "\n",
       "    .dataframe thead th {\n",
       "        text-align: right;\n",
       "    }\n",
       "</style>\n",
       "<table border=\"1\" class=\"dataframe\">\n",
       "  <thead>\n",
       "    <tr style=\"text-align: right;\">\n",
       "      <th></th>\n",
       "      <th>id</th>\n",
       "      <th>text</th>\n",
       "      <th>Text_Only_Informative</th>\n",
       "    </tr>\n",
       "  </thead>\n",
       "  <tbody>\n",
       "    <tr>\n",
       "      <th>0</th>\n",
       "      <td>1050949333754015745</td>\n",
       "      <td>msu student raped woman hours after she left m...</td>\n",
       "      <td>1</td>\n",
       "    </tr>\n",
       "    <tr>\n",
       "      <th>1</th>\n",
       "      <td>1050790113343655937</td>\n",
       "      <td>melania trump says she supports men against me...</td>\n",
       "      <td>1</td>\n",
       "    </tr>\n",
       "    <tr>\n",
       "      <th>2</th>\n",
       "      <td>1050685917546115072</td>\n",
       "      <td>buy huawei pro and save up to only at amazon b...</td>\n",
       "      <td>1</td>\n",
       "    </tr>\n",
       "    <tr>\n",
       "      <th>3</th>\n",
       "      <td>1051422182721683456</td>\n",
       "      <td>consent metoo keepyourhandstoyourself it shoul...</td>\n",
       "      <td>1</td>\n",
       "    </tr>\n",
       "    <tr>\n",
       "      <th>4</th>\n",
       "      <td>1051973740790210561</td>\n",
       "      <td>“ conservative women don ’ t feel victimized ”...</td>\n",
       "      <td>0</td>\n",
       "    </tr>\n",
       "  </tbody>\n",
       "</table>\n",
       "</div>"
      ],
      "text/plain": [
       "                    id                                               text  \\\n",
       "0  1050949333754015745  msu student raped woman hours after she left m...   \n",
       "1  1050790113343655937  melania trump says she supports men against me...   \n",
       "2  1050685917546115072  buy huawei pro and save up to only at amazon b...   \n",
       "3  1051422182721683456  consent metoo keepyourhandstoyourself it shoul...   \n",
       "4  1051973740790210561  “ conservative women don ’ t feel victimized ”...   \n",
       "\n",
       "   Text_Only_Informative  \n",
       "0                      1  \n",
       "1                      1  \n",
       "2                      1  \n",
       "3                      1  \n",
       "4                      0  "
      ]
     },
     "execution_count": 214,
     "metadata": {},
     "output_type": "execute_result"
    }
   ],
   "source": [
    "df.head()"
   ]
  },
  {
   "cell_type": "code",
   "execution_count": 215,
   "metadata": {},
   "outputs": [
    {
     "name": "stdout",
     "output_type": "stream",
     "text": [
      "932\n"
     ]
    }
   ],
   "source": [
    "lstTest0 = []\n",
    "lstTest1 = []\n",
    "textTest0  = []\n",
    "textTest1 = []\n",
    "idTest0 = []\n",
    "idTest1 = []\n",
    "#count0 = 0\n",
    "#count1 = 0\n",
    "for i in range(len(Texttrain)):\n",
    "    if Texttrain[i] == 0:\n",
    "        if tweetId[i] not in id0:\n",
    "            lstTest0.append(0)\n",
    "            textTest0.append(textList[i])\n",
    "            idTest0.append(tweetId[i])\n",
    "            #count0 +=1\n",
    "        else:\n",
    "            pass\n",
    "    else:\n",
    "        if tweetId[i] not in id1:\n",
    "            lstTest1.append(1)\n",
    "            textTest1.append(textList[i])\n",
    "            idTest1.append(tweetId[i])\n",
    "            #count1+=1\n",
    "        else:\n",
    "            pass\n",
    "\n",
    "print(len(idTest1))"
   ]
  },
  {
   "cell_type": "code",
   "execution_count": 216,
   "metadata": {},
   "outputs": [],
   "source": [
    "df2= pd.DataFrame()"
   ]
  },
  {
   "cell_type": "code",
   "execution_count": 217,
   "metadata": {},
   "outputs": [],
   "source": [
    "df2['id'] =  idTest0+idTest1\n",
    "df2['text'] = textTest0+textTest1\n",
    "df2['Text_Only_Informative'] = lstTest0+lstTest1"
   ]
  },
  {
   "cell_type": "code",
   "execution_count": 218,
   "metadata": {},
   "outputs": [],
   "source": [
    "df2.to_csv(\"TextTest(AUC0.50)Dataset.csv\")"
   ]
  },
  {
   "cell_type": "code",
   "execution_count": 219,
   "metadata": {},
   "outputs": [
    {
     "data": {
      "text/plain": [
       "1097"
      ]
     },
     "execution_count": 219,
     "metadata": {},
     "output_type": "execute_result"
    }
   ],
   "source": [
    "len(df2)"
   ]
  },
  {
   "cell_type": "code",
   "execution_count": 220,
   "metadata": {},
   "outputs": [
    {
     "data": {
      "text/plain": [
       "5702"
      ]
     },
     "execution_count": 220,
     "metadata": {},
     "output_type": "execute_result"
    }
   ],
   "source": [
    "len(df)"
   ]
  },
  {
   "cell_type": "code",
   "execution_count": null,
   "metadata": {},
   "outputs": [],
   "source": []
  },
  {
   "cell_type": "code",
   "execution_count": null,
   "metadata": {},
   "outputs": [],
   "source": []
  },
  {
   "cell_type": "code",
   "execution_count": null,
   "metadata": {},
   "outputs": [],
   "source": []
  }
 ],
 "metadata": {
  "kernelspec": {
   "display_name": "Python 3",
   "language": "python",
   "name": "python3"
  },
  "language_info": {
   "codemirror_mode": {
    "name": "ipython",
    "version": 3
   },
   "file_extension": ".py",
   "mimetype": "text/x-python",
   "name": "python",
   "nbconvert_exporter": "python",
   "pygments_lexer": "ipython3",
   "version": "3.7.8"
  }
 },
 "nbformat": 4,
 "nbformat_minor": 4
}
