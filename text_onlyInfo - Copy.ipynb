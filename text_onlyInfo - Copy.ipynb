{
 "cells": [
  {
   "cell_type": "code",
   "execution_count": 1,
   "metadata": {},
   "outputs": [],
   "source": [
    "import pandas as pd\n",
    "import numpy as np\n",
    "import nltk"
   ]
  },
  {
   "cell_type": "code",
   "execution_count": 2,
   "metadata": {},
   "outputs": [],
   "source": [
    "data =  pd.read_csv(\"full_dataTrain.csv\")"
   ]
  },
  {
   "cell_type": "code",
   "execution_count": 3,
   "metadata": {},
   "outputs": [
    {
     "data": {
      "text/html": [
       "<div>\n",
       "<style scoped>\n",
       "    .dataframe tbody tr th:only-of-type {\n",
       "        vertical-align: middle;\n",
       "    }\n",
       "\n",
       "    .dataframe tbody tr th {\n",
       "        vertical-align: top;\n",
       "    }\n",
       "\n",
       "    .dataframe thead th {\n",
       "        text-align: right;\n",
       "    }\n",
       "</style>\n",
       "<table border=\"1\" class=\"dataframe\">\n",
       "  <thead>\n",
       "    <tr style=\"text-align: right;\">\n",
       "      <th></th>\n",
       "      <th>coordinates</th>\n",
       "      <th>created_at</th>\n",
       "      <th>hashtags</th>\n",
       "      <th>media</th>\n",
       "      <th>urls</th>\n",
       "      <th>favorite_count</th>\n",
       "      <th>id</th>\n",
       "      <th>in_reply_to_screen_name</th>\n",
       "      <th>in_reply_to_status_id</th>\n",
       "      <th>in_reply_to_user_id</th>\n",
       "      <th>...</th>\n",
       "      <th>Text_Only_Informative</th>\n",
       "      <th>Image_Only_Informative</th>\n",
       "      <th>Directed_Hate</th>\n",
       "      <th>Generalized_Hate</th>\n",
       "      <th>Sarcasm</th>\n",
       "      <th>Allegation</th>\n",
       "      <th>Justification</th>\n",
       "      <th>Refutation</th>\n",
       "      <th>Support</th>\n",
       "      <th>Oppose</th>\n",
       "    </tr>\n",
       "  </thead>\n",
       "  <tbody>\n",
       "    <tr>\n",
       "      <th>0</th>\n",
       "      <td>NaN</td>\n",
       "      <td>Mon Oct 15 20:53:43 +0000 2018</td>\n",
       "      <td>ImWithHer MeToo Hypocrites</td>\n",
       "      <td>https://twitter.com/Mr_Nobull/status/105193919...</td>\n",
       "      <td>NaN</td>\n",
       "      <td>1</td>\n",
       "      <td>1051939199195045890</td>\n",
       "      <td>NaN</td>\n",
       "      <td>NaN</td>\n",
       "      <td>NaN</td>\n",
       "      <td>...</td>\n",
       "      <td>1.0</td>\n",
       "      <td>1.0</td>\n",
       "      <td>1.0</td>\n",
       "      <td>0.0</td>\n",
       "      <td>0.0</td>\n",
       "      <td>1.0</td>\n",
       "      <td>1.0</td>\n",
       "      <td>0.0</td>\n",
       "      <td>0.0</td>\n",
       "      <td>0.0</td>\n",
       "    </tr>\n",
       "    <tr>\n",
       "      <th>1</th>\n",
       "      <td>NaN</td>\n",
       "      <td>Fri Oct 12 18:14:29 +0000 2018</td>\n",
       "      <td>MeToo</td>\n",
       "      <td>https://twitter.com/Resist_N0W/status/10508119...</td>\n",
       "      <td>NaN</td>\n",
       "      <td>6</td>\n",
       "      <td>1050811961011838977</td>\n",
       "      <td>NaN</td>\n",
       "      <td>NaN</td>\n",
       "      <td>NaN</td>\n",
       "      <td>...</td>\n",
       "      <td>1.0</td>\n",
       "      <td>1.0</td>\n",
       "      <td>0.0</td>\n",
       "      <td>0.0</td>\n",
       "      <td>0.0</td>\n",
       "      <td>0.0</td>\n",
       "      <td>1.0</td>\n",
       "      <td>0.0</td>\n",
       "      <td>1.0</td>\n",
       "      <td>0.0</td>\n",
       "    </tr>\n",
       "    <tr>\n",
       "      <th>2</th>\n",
       "      <td>NaN</td>\n",
       "      <td>Wed Oct 10 07:51:58 +0000 2018</td>\n",
       "      <td>BrettKavanuagh auspol sharrimarkson metoo</td>\n",
       "      <td>https://twitter.com/PetefromHayNSW/status/1049...</td>\n",
       "      <td>NaN</td>\n",
       "      <td>125</td>\n",
       "      <td>1049930526314782720</td>\n",
       "      <td>NaN</td>\n",
       "      <td>NaN</td>\n",
       "      <td>NaN</td>\n",
       "      <td>...</td>\n",
       "      <td>1.0</td>\n",
       "      <td>1.0</td>\n",
       "      <td>0.0</td>\n",
       "      <td>0.0</td>\n",
       "      <td>0.0</td>\n",
       "      <td>0.0</td>\n",
       "      <td>0.0</td>\n",
       "      <td>0.0</td>\n",
       "      <td>1.0</td>\n",
       "      <td>0.0</td>\n",
       "    </tr>\n",
       "    <tr>\n",
       "      <th>3</th>\n",
       "      <td>NaN</td>\n",
       "      <td>Mon Oct 15 02:30:07 +0000 2018</td>\n",
       "      <td>MeToo</td>\n",
       "      <td>https://twitter.com/AmnestyNZ/status/105166146...</td>\n",
       "      <td>NaN</td>\n",
       "      <td>3</td>\n",
       "      <td>1051661466837901313</td>\n",
       "      <td>NaN</td>\n",
       "      <td>NaN</td>\n",
       "      <td>NaN</td>\n",
       "      <td>...</td>\n",
       "      <td>1.0</td>\n",
       "      <td>1.0</td>\n",
       "      <td>0.0</td>\n",
       "      <td>0.0</td>\n",
       "      <td>0.0</td>\n",
       "      <td>0.0</td>\n",
       "      <td>0.0</td>\n",
       "      <td>0.0</td>\n",
       "      <td>1.0</td>\n",
       "      <td>0.0</td>\n",
       "    </tr>\n",
       "    <tr>\n",
       "      <th>4</th>\n",
       "      <td>NaN</td>\n",
       "      <td>Sun Oct 14 06:17:02 +0000 2018</td>\n",
       "      <td>HimToo MeToo</td>\n",
       "      <td>https://twitter.com/MichaelBCurran/status/1051...</td>\n",
       "      <td>https://buff.ly/2C9vFcS</td>\n",
       "      <td>0</td>\n",
       "      <td>1051356183402033152</td>\n",
       "      <td>NaN</td>\n",
       "      <td>NaN</td>\n",
       "      <td>NaN</td>\n",
       "      <td>...</td>\n",
       "      <td>0.0</td>\n",
       "      <td>0.0</td>\n",
       "      <td>0.0</td>\n",
       "      <td>0.0</td>\n",
       "      <td>0.0</td>\n",
       "      <td>0.0</td>\n",
       "      <td>0.0</td>\n",
       "      <td>0.0</td>\n",
       "      <td>0.0</td>\n",
       "      <td>0.0</td>\n",
       "    </tr>\n",
       "  </tbody>\n",
       "</table>\n",
       "<p>5 rows × 44 columns</p>\n",
       "</div>"
      ],
      "text/plain": [
       "  coordinates                      created_at  \\\n",
       "0         NaN  Mon Oct 15 20:53:43 +0000 2018   \n",
       "1         NaN  Fri Oct 12 18:14:29 +0000 2018   \n",
       "2         NaN  Wed Oct 10 07:51:58 +0000 2018   \n",
       "3         NaN  Mon Oct 15 02:30:07 +0000 2018   \n",
       "4         NaN  Sun Oct 14 06:17:02 +0000 2018   \n",
       "\n",
       "                                    hashtags  \\\n",
       "0                 ImWithHer MeToo Hypocrites   \n",
       "1                                      MeToo   \n",
       "2  BrettKavanuagh auspol sharrimarkson metoo   \n",
       "3                                      MeToo   \n",
       "4                               HimToo MeToo   \n",
       "\n",
       "                                               media                     urls  \\\n",
       "0  https://twitter.com/Mr_Nobull/status/105193919...                      NaN   \n",
       "1  https://twitter.com/Resist_N0W/status/10508119...                      NaN   \n",
       "2  https://twitter.com/PetefromHayNSW/status/1049...                      NaN   \n",
       "3  https://twitter.com/AmnestyNZ/status/105166146...                      NaN   \n",
       "4  https://twitter.com/MichaelBCurran/status/1051...  https://buff.ly/2C9vFcS   \n",
       "\n",
       "   favorite_count                   id in_reply_to_screen_name  \\\n",
       "0               1  1051939199195045890                     NaN   \n",
       "1               6  1050811961011838977                     NaN   \n",
       "2             125  1049930526314782720                     NaN   \n",
       "3               3  1051661466837901313                     NaN   \n",
       "4               0  1051356183402033152                     NaN   \n",
       "\n",
       "   in_reply_to_status_id  in_reply_to_user_id  ... Text_Only_Informative  \\\n",
       "0                    NaN                  NaN  ...                   1.0   \n",
       "1                    NaN                  NaN  ...                   1.0   \n",
       "2                    NaN                  NaN  ...                   1.0   \n",
       "3                    NaN                  NaN  ...                   1.0   \n",
       "4                    NaN                  NaN  ...                   0.0   \n",
       "\n",
       "  Image_Only_Informative  Directed_Hate  Generalized_Hate  Sarcasm  \\\n",
       "0                    1.0            1.0               0.0      0.0   \n",
       "1                    1.0            0.0               0.0      0.0   \n",
       "2                    1.0            0.0               0.0      0.0   \n",
       "3                    1.0            0.0               0.0      0.0   \n",
       "4                    0.0            0.0               0.0      0.0   \n",
       "\n",
       "   Allegation Justification Refutation Support Oppose  \n",
       "0         1.0           1.0        0.0     0.0    0.0  \n",
       "1         0.0           1.0        0.0     1.0    0.0  \n",
       "2         0.0           0.0        0.0     1.0    0.0  \n",
       "3         0.0           0.0        0.0     1.0    0.0  \n",
       "4         0.0           0.0        0.0     0.0    0.0  \n",
       "\n",
       "[5 rows x 44 columns]"
      ]
     },
     "execution_count": 3,
     "metadata": {},
     "output_type": "execute_result"
    }
   ],
   "source": [
    "data.head()"
   ]
  },
  {
   "cell_type": "code",
   "execution_count": 4,
   "metadata": {},
   "outputs": [],
   "source": [
    "from sklearn.model_selection import train_test_split\n",
    "from sklearn.feature_extraction.text import CountVectorizer\n",
    "from sklearn.metrics import accuracy_score, precision_score"
   ]
  },
  {
   "cell_type": "code",
   "execution_count": 5,
   "metadata": {},
   "outputs": [],
   "source": [
    "import re\n",
    "import string\n",
    "\n",
    "def clean_text_round1(text):\n",
    "    '''Make text lowercase, remove text in square brackets, remove punctuation and remove words containing numbers.'''\n",
    "    text = text.lower()\n",
    "    text = re.sub('\\[.*?\\]', '', text)\n",
    "    text = re.sub('[%s]' % re.escape(string.punctuation), '', text)\n",
    "    text = re.sub('\\w*\\d\\w*', '', text)\n",
    "    return text\n",
    "\n",
    "round1 = lambda x: clean_text_round1(x)"
   ]
  },
  {
   "cell_type": "code",
   "execution_count": 6,
   "metadata": {},
   "outputs": [],
   "source": [
    "data['text']=data['text'].apply(round1)"
   ]
  },
  {
   "cell_type": "code",
   "execution_count": 7,
   "metadata": {},
   "outputs": [
    {
     "data": {
      "text/html": [
       "<div>\n",
       "<style scoped>\n",
       "    .dataframe tbody tr th:only-of-type {\n",
       "        vertical-align: middle;\n",
       "    }\n",
       "\n",
       "    .dataframe tbody tr th {\n",
       "        vertical-align: top;\n",
       "    }\n",
       "\n",
       "    .dataframe thead th {\n",
       "        text-align: right;\n",
       "    }\n",
       "</style>\n",
       "<table border=\"1\" class=\"dataframe\">\n",
       "  <thead>\n",
       "    <tr style=\"text-align: right;\">\n",
       "      <th></th>\n",
       "      <th>coordinates</th>\n",
       "      <th>created_at</th>\n",
       "      <th>hashtags</th>\n",
       "      <th>media</th>\n",
       "      <th>urls</th>\n",
       "      <th>favorite_count</th>\n",
       "      <th>id</th>\n",
       "      <th>in_reply_to_screen_name</th>\n",
       "      <th>in_reply_to_status_id</th>\n",
       "      <th>in_reply_to_user_id</th>\n",
       "      <th>...</th>\n",
       "      <th>Text_Only_Informative</th>\n",
       "      <th>Image_Only_Informative</th>\n",
       "      <th>Directed_Hate</th>\n",
       "      <th>Generalized_Hate</th>\n",
       "      <th>Sarcasm</th>\n",
       "      <th>Allegation</th>\n",
       "      <th>Justification</th>\n",
       "      <th>Refutation</th>\n",
       "      <th>Support</th>\n",
       "      <th>Oppose</th>\n",
       "    </tr>\n",
       "  </thead>\n",
       "  <tbody>\n",
       "    <tr>\n",
       "      <th>0</th>\n",
       "      <td>NaN</td>\n",
       "      <td>Mon Oct 15 20:53:43 +0000 2018</td>\n",
       "      <td>ImWithHer MeToo Hypocrites</td>\n",
       "      <td>https://twitter.com/Mr_Nobull/status/105193919...</td>\n",
       "      <td>NaN</td>\n",
       "      <td>1</td>\n",
       "      <td>1051939199195045890</td>\n",
       "      <td>NaN</td>\n",
       "      <td>NaN</td>\n",
       "      <td>NaN</td>\n",
       "      <td>...</td>\n",
       "      <td>1.0</td>\n",
       "      <td>1.0</td>\n",
       "      <td>1.0</td>\n",
       "      <td>0.0</td>\n",
       "      <td>0.0</td>\n",
       "      <td>1.0</td>\n",
       "      <td>1.0</td>\n",
       "      <td>0.0</td>\n",
       "      <td>0.0</td>\n",
       "      <td>0.0</td>\n",
       "    </tr>\n",
       "    <tr>\n",
       "      <th>1</th>\n",
       "      <td>NaN</td>\n",
       "      <td>Fri Oct 12 18:14:29 +0000 2018</td>\n",
       "      <td>MeToo</td>\n",
       "      <td>https://twitter.com/Resist_N0W/status/10508119...</td>\n",
       "      <td>NaN</td>\n",
       "      <td>6</td>\n",
       "      <td>1050811961011838977</td>\n",
       "      <td>NaN</td>\n",
       "      <td>NaN</td>\n",
       "      <td>NaN</td>\n",
       "      <td>...</td>\n",
       "      <td>1.0</td>\n",
       "      <td>1.0</td>\n",
       "      <td>0.0</td>\n",
       "      <td>0.0</td>\n",
       "      <td>0.0</td>\n",
       "      <td>0.0</td>\n",
       "      <td>1.0</td>\n",
       "      <td>0.0</td>\n",
       "      <td>1.0</td>\n",
       "      <td>0.0</td>\n",
       "    </tr>\n",
       "    <tr>\n",
       "      <th>2</th>\n",
       "      <td>NaN</td>\n",
       "      <td>Wed Oct 10 07:51:58 +0000 2018</td>\n",
       "      <td>BrettKavanuagh auspol sharrimarkson metoo</td>\n",
       "      <td>https://twitter.com/PetefromHayNSW/status/1049...</td>\n",
       "      <td>NaN</td>\n",
       "      <td>125</td>\n",
       "      <td>1049930526314782720</td>\n",
       "      <td>NaN</td>\n",
       "      <td>NaN</td>\n",
       "      <td>NaN</td>\n",
       "      <td>...</td>\n",
       "      <td>1.0</td>\n",
       "      <td>1.0</td>\n",
       "      <td>0.0</td>\n",
       "      <td>0.0</td>\n",
       "      <td>0.0</td>\n",
       "      <td>0.0</td>\n",
       "      <td>0.0</td>\n",
       "      <td>0.0</td>\n",
       "      <td>1.0</td>\n",
       "      <td>0.0</td>\n",
       "    </tr>\n",
       "    <tr>\n",
       "      <th>3</th>\n",
       "      <td>NaN</td>\n",
       "      <td>Mon Oct 15 02:30:07 +0000 2018</td>\n",
       "      <td>MeToo</td>\n",
       "      <td>https://twitter.com/AmnestyNZ/status/105166146...</td>\n",
       "      <td>NaN</td>\n",
       "      <td>3</td>\n",
       "      <td>1051661466837901313</td>\n",
       "      <td>NaN</td>\n",
       "      <td>NaN</td>\n",
       "      <td>NaN</td>\n",
       "      <td>...</td>\n",
       "      <td>1.0</td>\n",
       "      <td>1.0</td>\n",
       "      <td>0.0</td>\n",
       "      <td>0.0</td>\n",
       "      <td>0.0</td>\n",
       "      <td>0.0</td>\n",
       "      <td>0.0</td>\n",
       "      <td>0.0</td>\n",
       "      <td>1.0</td>\n",
       "      <td>0.0</td>\n",
       "    </tr>\n",
       "    <tr>\n",
       "      <th>4</th>\n",
       "      <td>NaN</td>\n",
       "      <td>Sun Oct 14 06:17:02 +0000 2018</td>\n",
       "      <td>HimToo MeToo</td>\n",
       "      <td>https://twitter.com/MichaelBCurran/status/1051...</td>\n",
       "      <td>https://buff.ly/2C9vFcS</td>\n",
       "      <td>0</td>\n",
       "      <td>1051356183402033152</td>\n",
       "      <td>NaN</td>\n",
       "      <td>NaN</td>\n",
       "      <td>NaN</td>\n",
       "      <td>...</td>\n",
       "      <td>0.0</td>\n",
       "      <td>0.0</td>\n",
       "      <td>0.0</td>\n",
       "      <td>0.0</td>\n",
       "      <td>0.0</td>\n",
       "      <td>0.0</td>\n",
       "      <td>0.0</td>\n",
       "      <td>0.0</td>\n",
       "      <td>0.0</td>\n",
       "      <td>0.0</td>\n",
       "    </tr>\n",
       "  </tbody>\n",
       "</table>\n",
       "<p>5 rows × 44 columns</p>\n",
       "</div>"
      ],
      "text/plain": [
       "  coordinates                      created_at  \\\n",
       "0         NaN  Mon Oct 15 20:53:43 +0000 2018   \n",
       "1         NaN  Fri Oct 12 18:14:29 +0000 2018   \n",
       "2         NaN  Wed Oct 10 07:51:58 +0000 2018   \n",
       "3         NaN  Mon Oct 15 02:30:07 +0000 2018   \n",
       "4         NaN  Sun Oct 14 06:17:02 +0000 2018   \n",
       "\n",
       "                                    hashtags  \\\n",
       "0                 ImWithHer MeToo Hypocrites   \n",
       "1                                      MeToo   \n",
       "2  BrettKavanuagh auspol sharrimarkson metoo   \n",
       "3                                      MeToo   \n",
       "4                               HimToo MeToo   \n",
       "\n",
       "                                               media                     urls  \\\n",
       "0  https://twitter.com/Mr_Nobull/status/105193919...                      NaN   \n",
       "1  https://twitter.com/Resist_N0W/status/10508119...                      NaN   \n",
       "2  https://twitter.com/PetefromHayNSW/status/1049...                      NaN   \n",
       "3  https://twitter.com/AmnestyNZ/status/105166146...                      NaN   \n",
       "4  https://twitter.com/MichaelBCurran/status/1051...  https://buff.ly/2C9vFcS   \n",
       "\n",
       "   favorite_count                   id in_reply_to_screen_name  \\\n",
       "0               1  1051939199195045890                     NaN   \n",
       "1               6  1050811961011838977                     NaN   \n",
       "2             125  1049930526314782720                     NaN   \n",
       "3               3  1051661466837901313                     NaN   \n",
       "4               0  1051356183402033152                     NaN   \n",
       "\n",
       "   in_reply_to_status_id  in_reply_to_user_id  ... Text_Only_Informative  \\\n",
       "0                    NaN                  NaN  ...                   1.0   \n",
       "1                    NaN                  NaN  ...                   1.0   \n",
       "2                    NaN                  NaN  ...                   1.0   \n",
       "3                    NaN                  NaN  ...                   1.0   \n",
       "4                    NaN                  NaN  ...                   0.0   \n",
       "\n",
       "  Image_Only_Informative  Directed_Hate  Generalized_Hate  Sarcasm  \\\n",
       "0                    1.0            1.0               0.0      0.0   \n",
       "1                    1.0            0.0               0.0      0.0   \n",
       "2                    1.0            0.0               0.0      0.0   \n",
       "3                    1.0            0.0               0.0      0.0   \n",
       "4                    0.0            0.0               0.0      0.0   \n",
       "\n",
       "   Allegation Justification Refutation Support Oppose  \n",
       "0         1.0           1.0        0.0     0.0    0.0  \n",
       "1         0.0           1.0        0.0     1.0    0.0  \n",
       "2         0.0           0.0        0.0     1.0    0.0  \n",
       "3         0.0           0.0        0.0     1.0    0.0  \n",
       "4         0.0           0.0        0.0     0.0    0.0  \n",
       "\n",
       "[5 rows x 44 columns]"
      ]
     },
     "execution_count": 7,
     "metadata": {},
     "output_type": "execute_result"
    }
   ],
   "source": [
    "data.head()"
   ]
  },
  {
   "cell_type": "code",
   "execution_count": 8,
   "metadata": {},
   "outputs": [],
   "source": [
    "from nltk.tokenize import word_tokenize\n",
    "def token(list):\n",
    "    return (word_tokenize(list))\n",
    "data['text']=data['text'].apply(token)"
   ]
  },
  {
   "cell_type": "code",
   "execution_count": 9,
   "metadata": {},
   "outputs": [
    {
     "data": {
      "text/plain": [
       "Index(['coordinates', 'created_at', 'hashtags', 'media', 'urls',\n",
       "       'favorite_count', 'id', 'in_reply_to_screen_name',\n",
       "       'in_reply_to_status_id', 'in_reply_to_user_id', 'lang', 'place',\n",
       "       'possibly_sensitive', 'retweet_count', 'reweet_id',\n",
       "       'retweet_screen_name', 'source', 'text', 'tweet_url', 'user_created_at',\n",
       "       'user_screen_name', 'user_default_profile_image', 'user_description',\n",
       "       'user_favourites_count', 'user_followers_count', 'user_friends_count',\n",
       "       'user_listed_count', 'user_location', 'user_name', 'user_screen_name.1',\n",
       "       'user_statuses_count', 'user_time_zone', 'user_urls', 'user_verified',\n",
       "       'Text_Only_Informative', 'Image_Only_Informative', 'Directed_Hate',\n",
       "       'Generalized_Hate', 'Sarcasm', 'Allegation', 'Justification',\n",
       "       'Refutation', 'Support', 'Oppose'],\n",
       "      dtype='object')"
      ]
     },
     "execution_count": 9,
     "metadata": {},
     "output_type": "execute_result"
    }
   ],
   "source": [
    "data.columns"
   ]
  },
  {
   "cell_type": "code",
   "execution_count": 10,
   "metadata": {},
   "outputs": [],
   "source": [
    "from nltk.stem import wordnet\n",
    "from nltk.stem import WordNetLemmatizer\n",
    "word_lem=WordNetLemmatizer()\n",
    "for review in data['text']:\n",
    "    for word in review:\n",
    "        word_lem.lemmatize(word)\n",
    "def untokenize(list):\n",
    "    return ' '.join(list)\n",
    "data['text']=data['text'].apply(untokenize)"
   ]
  },
  {
   "cell_type": "code",
   "execution_count": 11,
   "metadata": {},
   "outputs": [],
   "source": [
    "dataReqd = pd.read_csv(\"ReqdData.csv\")"
   ]
  },
  {
   "cell_type": "code",
   "execution_count": 12,
   "metadata": {},
   "outputs": [
    {
     "data": {
      "text/html": [
       "<div>\n",
       "<style scoped>\n",
       "    .dataframe tbody tr th:only-of-type {\n",
       "        vertical-align: middle;\n",
       "    }\n",
       "\n",
       "    .dataframe tbody tr th {\n",
       "        vertical-align: top;\n",
       "    }\n",
       "\n",
       "    .dataframe thead th {\n",
       "        text-align: right;\n",
       "    }\n",
       "</style>\n",
       "<table border=\"1\" class=\"dataframe\">\n",
       "  <thead>\n",
       "    <tr style=\"text-align: right;\">\n",
       "      <th></th>\n",
       "      <th>hashtags</th>\n",
       "      <th>id</th>\n",
       "      <th>possibly_sensitive</th>\n",
       "      <th>text</th>\n",
       "      <th>Directed_Hate</th>\n",
       "      <th>Generalized_Hate</th>\n",
       "      <th>Sarcasm</th>\n",
       "      <th>Allegation</th>\n",
       "      <th>Justification</th>\n",
       "      <th>Refutation</th>\n",
       "      <th>Support</th>\n",
       "      <th>Oppose</th>\n",
       "    </tr>\n",
       "  </thead>\n",
       "  <tbody>\n",
       "    <tr>\n",
       "      <th>0</th>\n",
       "      <td>ImWithHer MeToo Hypocrites</td>\n",
       "      <td>1051939199195045890</td>\n",
       "      <td>False</td>\n",
       "      <td>What a shock hey, Old Bill is in the clear &amp;am...</td>\n",
       "      <td>1.0</td>\n",
       "      <td>0.0</td>\n",
       "      <td>0.0</td>\n",
       "      <td>1.0</td>\n",
       "      <td>1.0</td>\n",
       "      <td>0.0</td>\n",
       "      <td>0.0</td>\n",
       "      <td>0.0</td>\n",
       "    </tr>\n",
       "    <tr>\n",
       "      <th>1</th>\n",
       "      <td>MeToo</td>\n",
       "      <td>1050811961011838977</td>\n",
       "      <td>False</td>\n",
       "      <td>No Bucky, people are pissed off at ashleyperki...</td>\n",
       "      <td>0.0</td>\n",
       "      <td>0.0</td>\n",
       "      <td>0.0</td>\n",
       "      <td>0.0</td>\n",
       "      <td>1.0</td>\n",
       "      <td>0.0</td>\n",
       "      <td>1.0</td>\n",
       "      <td>0.0</td>\n",
       "    </tr>\n",
       "    <tr>\n",
       "      <th>2</th>\n",
       "      <td>BrettKavanuagh auspol sharrimarkson metoo</td>\n",
       "      <td>1049930526314782720</td>\n",
       "      <td>False</td>\n",
       "      <td>If Sarah Hanson Young thinks #BrettKavanuagh i...</td>\n",
       "      <td>0.0</td>\n",
       "      <td>0.0</td>\n",
       "      <td>0.0</td>\n",
       "      <td>0.0</td>\n",
       "      <td>0.0</td>\n",
       "      <td>0.0</td>\n",
       "      <td>1.0</td>\n",
       "      <td>0.0</td>\n",
       "    </tr>\n",
       "    <tr>\n",
       "      <th>3</th>\n",
       "      <td>MeToo</td>\n",
       "      <td>1051661466837901313</td>\n",
       "      <td>False</td>\n",
       "      <td>365 days\\n19 million tweets\\nOne powerful move...</td>\n",
       "      <td>0.0</td>\n",
       "      <td>0.0</td>\n",
       "      <td>0.0</td>\n",
       "      <td>0.0</td>\n",
       "      <td>0.0</td>\n",
       "      <td>0.0</td>\n",
       "      <td>1.0</td>\n",
       "      <td>0.0</td>\n",
       "    </tr>\n",
       "    <tr>\n",
       "      <th>4</th>\n",
       "      <td>HimToo MeToo</td>\n",
       "      <td>1051356183402033152</td>\n",
       "      <td>False</td>\n",
       "      <td>#HimToo: how an attempt to criticize #MeToo we...</td>\n",
       "      <td>0.0</td>\n",
       "      <td>0.0</td>\n",
       "      <td>0.0</td>\n",
       "      <td>0.0</td>\n",
       "      <td>0.0</td>\n",
       "      <td>0.0</td>\n",
       "      <td>0.0</td>\n",
       "      <td>0.0</td>\n",
       "    </tr>\n",
       "  </tbody>\n",
       "</table>\n",
       "</div>"
      ],
      "text/plain": [
       "                                    hashtags                   id  \\\n",
       "0                 ImWithHer MeToo Hypocrites  1051939199195045890   \n",
       "1                                      MeToo  1050811961011838977   \n",
       "2  BrettKavanuagh auspol sharrimarkson metoo  1049930526314782720   \n",
       "3                                      MeToo  1051661466837901313   \n",
       "4                               HimToo MeToo  1051356183402033152   \n",
       "\n",
       "   possibly_sensitive                                               text  \\\n",
       "0               False  What a shock hey, Old Bill is in the clear &am...   \n",
       "1               False  No Bucky, people are pissed off at ashleyperki...   \n",
       "2               False  If Sarah Hanson Young thinks #BrettKavanuagh i...   \n",
       "3               False  365 days\\n19 million tweets\\nOne powerful move...   \n",
       "4               False  #HimToo: how an attempt to criticize #MeToo we...   \n",
       "\n",
       "   Directed_Hate  Generalized_Hate  Sarcasm  Allegation  Justification  \\\n",
       "0            1.0               0.0      0.0         1.0            1.0   \n",
       "1            0.0               0.0      0.0         0.0            1.0   \n",
       "2            0.0               0.0      0.0         0.0            0.0   \n",
       "3            0.0               0.0      0.0         0.0            0.0   \n",
       "4            0.0               0.0      0.0         0.0            0.0   \n",
       "\n",
       "   Refutation  Support  Oppose  \n",
       "0         0.0      0.0     0.0  \n",
       "1         0.0      1.0     0.0  \n",
       "2         0.0      1.0     0.0  \n",
       "3         0.0      1.0     0.0  \n",
       "4         0.0      0.0     0.0  "
      ]
     },
     "execution_count": 12,
     "metadata": {},
     "output_type": "execute_result"
    }
   ],
   "source": [
    "dataReqd.head()"
   ]
  },
  {
   "cell_type": "code",
   "execution_count": 13,
   "metadata": {},
   "outputs": [],
   "source": [
    "dataF = data.drop(['coordinates', 'created_at', 'hashtags', 'media', 'urls',\n",
    "       'favorite_count', 'in_reply_to_screen_name',\n",
    "       'in_reply_to_status_id', 'in_reply_to_user_id', 'lang', 'place',\n",
    "       'possibly_sensitive', 'retweet_count', 'reweet_id',\n",
    "       'retweet_screen_name', 'source','tweet_url', 'user_created_at',\n",
    "       'user_screen_name', 'user_default_profile_image', 'user_description',\n",
    "       'user_favourites_count', 'user_followers_count', 'user_friends_count',\n",
    "       'user_listed_count', 'user_location', 'user_name', 'user_screen_name.1',\n",
    "       'user_statuses_count', 'user_time_zone', 'user_urls', 'user_verified','Image_Only_Informative', 'Directed_Hate',\n",
    "       'Generalized_Hate', 'Sarcasm', 'Allegation', 'Justification',\n",
    "       'Refutation', 'Support', 'Oppose'],axis =1)"
   ]
  },
  {
   "cell_type": "code",
   "execution_count": 14,
   "metadata": {},
   "outputs": [],
   "source": [
    "dataR = dataReqd.drop(['text'],axis = 1)"
   ]
  },
  {
   "cell_type": "code",
   "execution_count": 15,
   "metadata": {},
   "outputs": [],
   "source": [
    "dataMain = pd.merge(dataR, dataF, left_on='id', right_on='id', how='left')"
   ]
  },
  {
   "cell_type": "code",
   "execution_count": 16,
   "metadata": {},
   "outputs": [],
   "source": [
    "dataMain.to_csv(\"MainData.csv\")"
   ]
  },
  {
   "cell_type": "code",
   "execution_count": 17,
   "metadata": {},
   "outputs": [
    {
     "data": {
      "text/html": [
       "<div>\n",
       "<style scoped>\n",
       "    .dataframe tbody tr th:only-of-type {\n",
       "        vertical-align: middle;\n",
       "    }\n",
       "\n",
       "    .dataframe tbody tr th {\n",
       "        vertical-align: top;\n",
       "    }\n",
       "\n",
       "    .dataframe thead th {\n",
       "        text-align: right;\n",
       "    }\n",
       "</style>\n",
       "<table border=\"1\" class=\"dataframe\">\n",
       "  <thead>\n",
       "    <tr style=\"text-align: right;\">\n",
       "      <th></th>\n",
       "      <th>hashtags</th>\n",
       "      <th>id</th>\n",
       "      <th>possibly_sensitive</th>\n",
       "      <th>Directed_Hate</th>\n",
       "      <th>Generalized_Hate</th>\n",
       "      <th>Sarcasm</th>\n",
       "      <th>Allegation</th>\n",
       "      <th>Justification</th>\n",
       "      <th>Refutation</th>\n",
       "      <th>Support</th>\n",
       "      <th>Oppose</th>\n",
       "      <th>text</th>\n",
       "      <th>Text_Only_Informative</th>\n",
       "    </tr>\n",
       "  </thead>\n",
       "  <tbody>\n",
       "    <tr>\n",
       "      <th>0</th>\n",
       "      <td>ImWithHer MeToo Hypocrites</td>\n",
       "      <td>1051939199195045890</td>\n",
       "      <td>False</td>\n",
       "      <td>1.0</td>\n",
       "      <td>0.0</td>\n",
       "      <td>0.0</td>\n",
       "      <td>1.0</td>\n",
       "      <td>1.0</td>\n",
       "      <td>0.0</td>\n",
       "      <td>0.0</td>\n",
       "      <td>0.0</td>\n",
       "      <td>what a shock hey old bill is in the clear amp ...</td>\n",
       "      <td>1.0</td>\n",
       "    </tr>\n",
       "    <tr>\n",
       "      <th>1</th>\n",
       "      <td>MeToo</td>\n",
       "      <td>1050811961011838977</td>\n",
       "      <td>False</td>\n",
       "      <td>0.0</td>\n",
       "      <td>0.0</td>\n",
       "      <td>0.0</td>\n",
       "      <td>0.0</td>\n",
       "      <td>1.0</td>\n",
       "      <td>0.0</td>\n",
       "      <td>1.0</td>\n",
       "      <td>0.0</td>\n",
       "      <td>no bucky people are pissed off at for attackin...</td>\n",
       "      <td>1.0</td>\n",
       "    </tr>\n",
       "    <tr>\n",
       "      <th>2</th>\n",
       "      <td>BrettKavanuagh auspol sharrimarkson metoo</td>\n",
       "      <td>1049930526314782720</td>\n",
       "      <td>False</td>\n",
       "      <td>0.0</td>\n",
       "      <td>0.0</td>\n",
       "      <td>0.0</td>\n",
       "      <td>0.0</td>\n",
       "      <td>0.0</td>\n",
       "      <td>0.0</td>\n",
       "      <td>1.0</td>\n",
       "      <td>0.0</td>\n",
       "      <td>if sarah hanson young thinks brettkavanuagh is...</td>\n",
       "      <td>1.0</td>\n",
       "    </tr>\n",
       "    <tr>\n",
       "      <th>3</th>\n",
       "      <td>MeToo</td>\n",
       "      <td>1051661466837901313</td>\n",
       "      <td>False</td>\n",
       "      <td>0.0</td>\n",
       "      <td>0.0</td>\n",
       "      <td>0.0</td>\n",
       "      <td>0.0</td>\n",
       "      <td>0.0</td>\n",
       "      <td>0.0</td>\n",
       "      <td>1.0</td>\n",
       "      <td>0.0</td>\n",
       "      <td>days million tweets one powerful movement toda...</td>\n",
       "      <td>1.0</td>\n",
       "    </tr>\n",
       "    <tr>\n",
       "      <th>4</th>\n",
       "      <td>HimToo MeToo</td>\n",
       "      <td>1051356183402033152</td>\n",
       "      <td>False</td>\n",
       "      <td>0.0</td>\n",
       "      <td>0.0</td>\n",
       "      <td>0.0</td>\n",
       "      <td>0.0</td>\n",
       "      <td>0.0</td>\n",
       "      <td>0.0</td>\n",
       "      <td>0.0</td>\n",
       "      <td>0.0</td>\n",
       "      <td>himtoo how an attempt to criticize metoo went ...</td>\n",
       "      <td>0.0</td>\n",
       "    </tr>\n",
       "  </tbody>\n",
       "</table>\n",
       "</div>"
      ],
      "text/plain": [
       "                                    hashtags                   id  \\\n",
       "0                 ImWithHer MeToo Hypocrites  1051939199195045890   \n",
       "1                                      MeToo  1050811961011838977   \n",
       "2  BrettKavanuagh auspol sharrimarkson metoo  1049930526314782720   \n",
       "3                                      MeToo  1051661466837901313   \n",
       "4                               HimToo MeToo  1051356183402033152   \n",
       "\n",
       "   possibly_sensitive  Directed_Hate  Generalized_Hate  Sarcasm  Allegation  \\\n",
       "0               False            1.0               0.0      0.0         1.0   \n",
       "1               False            0.0               0.0      0.0         0.0   \n",
       "2               False            0.0               0.0      0.0         0.0   \n",
       "3               False            0.0               0.0      0.0         0.0   \n",
       "4               False            0.0               0.0      0.0         0.0   \n",
       "\n",
       "   Justification  Refutation  Support  Oppose  \\\n",
       "0            1.0         0.0      0.0     0.0   \n",
       "1            1.0         0.0      1.0     0.0   \n",
       "2            0.0         0.0      1.0     0.0   \n",
       "3            0.0         0.0      1.0     0.0   \n",
       "4            0.0         0.0      0.0     0.0   \n",
       "\n",
       "                                                text  Text_Only_Informative  \n",
       "0  what a shock hey old bill is in the clear amp ...                    1.0  \n",
       "1  no bucky people are pissed off at for attackin...                    1.0  \n",
       "2  if sarah hanson young thinks brettkavanuagh is...                    1.0  \n",
       "3  days million tweets one powerful movement toda...                    1.0  \n",
       "4  himtoo how an attempt to criticize metoo went ...                    0.0  "
      ]
     },
     "execution_count": 17,
     "metadata": {},
     "output_type": "execute_result"
    }
   ],
   "source": [
    "dataMain.head()"
   ]
  },
  {
   "cell_type": "code",
   "execution_count": 26,
   "metadata": {},
   "outputs": [],
   "source": [
    "textList = dataMain['text']\n",
    "Texttrain = dataMain['Text_Only_Informative']\n",
    "tweetId = dataMain['id']"
   ]
  },
  {
   "cell_type": "code",
   "execution_count": 27,
   "metadata": {},
   "outputs": [
    {
     "name": "stdout",
     "output_type": "stream",
     "text": [
      "4933.0\n"
     ]
    }
   ],
   "source": [
    "print(sum(Texttrain))"
   ]
  },
  {
   "cell_type": "code",
   "execution_count": 28,
   "metadata": {},
   "outputs": [
    {
     "data": {
      "text/plain": [
       "1.0    4933\n",
       "0.0    1866\n",
       "Name: Text_Only_Informative, dtype: int64"
      ]
     },
     "execution_count": 28,
     "metadata": {},
     "output_type": "execute_result"
    }
   ],
   "source": [
    "Texttrain.value_counts()"
   ]
  },
  {
   "cell_type": "code",
   "execution_count": 149,
   "metadata": {},
   "outputs": [
    {
     "name": "stdout",
     "output_type": "stream",
     "text": [
      "1701\n"
     ]
    }
   ],
   "source": [
    "lst0 = []\n",
    "lst1 = []\n",
    "text0  = []\n",
    "text1 = []\n",
    "id0 = []\n",
    "id1 = []\n",
    "count0 = 0\n",
    "count1 = 0\n",
    "for i in range(len(Texttrain)):\n",
    "    if Texttrain[i] == 0:\n",
    "        if count0 <=1700 :\n",
    "            lst0.append(0)\n",
    "            text0.append(textList[i])\n",
    "            id0.append(tweetId[i])\n",
    "            count0 +=1\n",
    "        else:\n",
    "            pass\n",
    "    else:\n",
    "        if count1 <=4000:\n",
    "            lst1.append(1)\n",
    "            text1.append(textList[i])\n",
    "            id1.append(tweetId[i])\n",
    "            count1+=1\n",
    "        else:\n",
    "            pass\n",
    "\n",
    "print(len(id0))"
   ]
  },
  {
   "cell_type": "code",
   "execution_count": 150,
   "metadata": {},
   "outputs": [],
   "source": [
    "df = pd.DataFrame()"
   ]
  },
  {
   "cell_type": "code",
   "execution_count": 151,
   "metadata": {},
   "outputs": [],
   "source": [
    "df['id'] =id0+id1\n",
    "df['text'] = text0+text1\n",
    "df['Text_Only_Informative'] = lst0+lst1"
   ]
  },
  {
   "cell_type": "code",
   "execution_count": 152,
   "metadata": {},
   "outputs": [],
   "source": [
    "df = df.sample(frac=1).reset_index(drop=True)"
   ]
  },
  {
   "cell_type": "code",
   "execution_count": 153,
   "metadata": {},
   "outputs": [
    {
     "data": {
      "text/html": [
       "<div>\n",
       "<style scoped>\n",
       "    .dataframe tbody tr th:only-of-type {\n",
       "        vertical-align: middle;\n",
       "    }\n",
       "\n",
       "    .dataframe tbody tr th {\n",
       "        vertical-align: top;\n",
       "    }\n",
       "\n",
       "    .dataframe thead th {\n",
       "        text-align: right;\n",
       "    }\n",
       "</style>\n",
       "<table border=\"1\" class=\"dataframe\">\n",
       "  <thead>\n",
       "    <tr style=\"text-align: right;\">\n",
       "      <th></th>\n",
       "      <th>id</th>\n",
       "      <th>text</th>\n",
       "      <th>Text_Only_Informative</th>\n",
       "    </tr>\n",
       "  </thead>\n",
       "  <tbody>\n",
       "    <tr>\n",
       "      <th>0</th>\n",
       "      <td>1050949333754015745</td>\n",
       "      <td>msu student raped woman hours after she left m...</td>\n",
       "      <td>1</td>\n",
       "    </tr>\n",
       "    <tr>\n",
       "      <th>1</th>\n",
       "      <td>1050790113343655937</td>\n",
       "      <td>melania trump says she supports men against me...</td>\n",
       "      <td>1</td>\n",
       "    </tr>\n",
       "    <tr>\n",
       "      <th>2</th>\n",
       "      <td>1050685917546115072</td>\n",
       "      <td>buy huawei pro and save up to only at amazon b...</td>\n",
       "      <td>1</td>\n",
       "    </tr>\n",
       "    <tr>\n",
       "      <th>3</th>\n",
       "      <td>1051422182721683456</td>\n",
       "      <td>consent metoo keepyourhandstoyourself it shoul...</td>\n",
       "      <td>1</td>\n",
       "    </tr>\n",
       "    <tr>\n",
       "      <th>4</th>\n",
       "      <td>1051973740790210561</td>\n",
       "      <td>“ conservative women don ’ t feel victimized ”...</td>\n",
       "      <td>0</td>\n",
       "    </tr>\n",
       "  </tbody>\n",
       "</table>\n",
       "</div>"
      ],
      "text/plain": [
       "                    id                                               text  \\\n",
       "0  1050949333754015745  msu student raped woman hours after she left m...   \n",
       "1  1050790113343655937  melania trump says she supports men against me...   \n",
       "2  1050685917546115072  buy huawei pro and save up to only at amazon b...   \n",
       "3  1051422182721683456  consent metoo keepyourhandstoyourself it shoul...   \n",
       "4  1051973740790210561  “ conservative women don ’ t feel victimized ”...   \n",
       "\n",
       "   Text_Only_Informative  \n",
       "0                      1  \n",
       "1                      1  \n",
       "2                      1  \n",
       "3                      1  \n",
       "4                      0  "
      ]
     },
     "execution_count": 153,
     "metadata": {},
     "output_type": "execute_result"
    }
   ],
   "source": [
    "df.head()"
   ]
  },
  {
   "cell_type": "code",
   "execution_count": 154,
   "metadata": {},
   "outputs": [
    {
     "data": {
      "text/html": [
       "<div>\n",
       "<style scoped>\n",
       "    .dataframe tbody tr th:only-of-type {\n",
       "        vertical-align: middle;\n",
       "    }\n",
       "\n",
       "    .dataframe tbody tr th {\n",
       "        vertical-align: top;\n",
       "    }\n",
       "\n",
       "    .dataframe thead th {\n",
       "        text-align: right;\n",
       "    }\n",
       "</style>\n",
       "<table border=\"1\" class=\"dataframe\">\n",
       "  <thead>\n",
       "    <tr style=\"text-align: right;\">\n",
       "      <th></th>\n",
       "      <th>id</th>\n",
       "      <th>text</th>\n",
       "      <th>Text_Only_Informative</th>\n",
       "    </tr>\n",
       "  </thead>\n",
       "  <tbody>\n",
       "    <tr>\n",
       "      <th>5697</th>\n",
       "      <td>1056211455404474369</td>\n",
       "      <td>metoo sanjay puran singh chauhan has been accu...</td>\n",
       "      <td>1</td>\n",
       "    </tr>\n",
       "    <tr>\n",
       "      <th>5698</th>\n",
       "      <td>1050895311391080448</td>\n",
       "      <td>meet the gop senate candidates who are still a...</td>\n",
       "      <td>0</td>\n",
       "    </tr>\n",
       "    <tr>\n",
       "      <th>5699</th>\n",
       "      <td>1054011637731082240</td>\n",
       "      <td>dedicated to those who are for or against meto...</td>\n",
       "      <td>0</td>\n",
       "    </tr>\n",
       "    <tr>\n",
       "      <th>5700</th>\n",
       "      <td>1054348465889636353</td>\n",
       "      <td>bignews prashanthsambargi slams chetankumar fo...</td>\n",
       "      <td>0</td>\n",
       "    </tr>\n",
       "    <tr>\n",
       "      <th>5701</th>\n",
       "      <td>1054482197741064192</td>\n",
       "      <td>via ciniadda arjunsruthi hariharan controversy...</td>\n",
       "      <td>1</td>\n",
       "    </tr>\n",
       "  </tbody>\n",
       "</table>\n",
       "</div>"
      ],
      "text/plain": [
       "                       id                                               text  \\\n",
       "5697  1056211455404474369  metoo sanjay puran singh chauhan has been accu...   \n",
       "5698  1050895311391080448  meet the gop senate candidates who are still a...   \n",
       "5699  1054011637731082240  dedicated to those who are for or against meto...   \n",
       "5700  1054348465889636353  bignews prashanthsambargi slams chetankumar fo...   \n",
       "5701  1054482197741064192  via ciniadda arjunsruthi hariharan controversy...   \n",
       "\n",
       "      Text_Only_Informative  \n",
       "5697                      1  \n",
       "5698                      0  \n",
       "5699                      0  \n",
       "5700                      0  \n",
       "5701                      1  "
      ]
     },
     "execution_count": 154,
     "metadata": {},
     "output_type": "execute_result"
    }
   ],
   "source": [
    "df.tail()"
   ]
  },
  {
   "cell_type": "code",
   "execution_count": 155,
   "metadata": {},
   "outputs": [],
   "source": [
    "from sklearn.metrics import roc_auc_score"
   ]
  },
  {
   "cell_type": "code",
   "execution_count": 156,
   "metadata": {},
   "outputs": [],
   "source": [
    "X_train, X_test, y_train, y_test = train_test_split(df['text'], \n",
    "                                                    df['Text_Only_Informative'],test_size=0.20,\n",
    "                                                    random_state=42)"
   ]
  },
  {
   "cell_type": "code",
   "execution_count": 157,
   "metadata": {},
   "outputs": [],
   "source": [
    "count_vector = CountVectorizer(stop_words = 'english')"
   ]
  },
  {
   "cell_type": "code",
   "execution_count": 158,
   "metadata": {},
   "outputs": [],
   "source": [
    "training_data = count_vector.fit_transform(X_train)"
   ]
  },
  {
   "cell_type": "code",
   "execution_count": 159,
   "metadata": {},
   "outputs": [],
   "source": [
    "testing_data = count_vector.transform(X_test)"
   ]
  },
  {
   "cell_type": "code",
   "execution_count": 160,
   "metadata": {},
   "outputs": [],
   "source": [
    "from sklearn.naive_bayes import MultinomialNB\n",
    "#from sklearn.svm import SVC\n",
    "naive_bayes = MultinomialNB()\n",
    "naive_bayes.fit(training_data, y_train)\n",
    "predictionsNB = naive_bayes.predict(testing_data)"
   ]
  },
  {
   "cell_type": "code",
   "execution_count": 161,
   "metadata": {},
   "outputs": [
    {
     "name": "stdout",
     "output_type": "stream",
     "text": [
      "Accuracy score:  0.6801051709027169\n",
      "797 1030\n",
      "0.5240017069825801\n"
     ]
    }
   ],
   "source": [
    "print('Accuracy score: ', format(accuracy_score(y_test, predictionsNB)))\n",
    "print(sum(y_test),sum(predictionsNB))\n",
    "print(roc_auc_score(y_test, predictionsNB))"
   ]
  },
  {
   "cell_type": "code",
   "execution_count": 162,
   "metadata": {},
   "outputs": [],
   "source": [
    "from sklearn import svm\n",
    "SVC_model = svm.SVC()\n",
    "SVC_model.fit(training_data, y_train)\n",
    "predictionsSVM = SVC_model.predict(testing_data)"
   ]
  },
  {
   "cell_type": "code",
   "execution_count": 163,
   "metadata": {},
   "outputs": [
    {
     "name": "stdout",
     "output_type": "stream",
     "text": [
      "Accuracy score:  0.6958808063102542\n",
      "797 1104\n",
      "0.5121622508826704\n"
     ]
    }
   ],
   "source": [
    "print('Accuracy score: ', format(accuracy_score(y_test, predictionsSVM)))\n",
    "print(sum(y_test),sum(predictionsSVM))\n",
    "print(roc_auc_score(y_test, predictionsSVM))"
   ]
  },
  {
   "cell_type": "code",
   "execution_count": 164,
   "metadata": {},
   "outputs": [],
   "source": [
    "from sklearn.ensemble import RandomForestClassifier\n",
    "\n",
    "#Create a Gaussian Classifier\n",
    "clf=RandomForestClassifier(n_estimators=1000)\n",
    "\n",
    "#Train the model using the training sets y_pred=clf.predict(X_test)\n",
    "clf.fit(training_data, y_train)\n",
    "\n",
    "predictionsRF=clf.predict(testing_data)"
   ]
  },
  {
   "cell_type": "code",
   "execution_count": 165,
   "metadata": {},
   "outputs": [
    {
     "name": "stdout",
     "output_type": "stream",
     "text": [
      "Accuracy score:  0.6625766871165644\n",
      "797 998\n",
      "0.516411470339354\n"
     ]
    }
   ],
   "source": [
    "print('Accuracy score: ', format(accuracy_score(y_test, predictionsRF)))\n",
    "print(sum(y_test),sum(predictionsRF))\n",
    "print(roc_auc_score(y_test, predictionsRF))"
   ]
  },
  {
   "cell_type": "code",
   "execution_count": 166,
   "metadata": {},
   "outputs": [
    {
     "name": "stdout",
     "output_type": "stream",
     "text": [
      "932\n"
     ]
    }
   ],
   "source": [
    "lstTest0 = []\n",
    "lstTest1 = []\n",
    "textTest0  = []\n",
    "textTest1 = []\n",
    "idTest0 = []\n",
    "idTest1 = []\n",
    "#count0 = 0\n",
    "#count1 = 0\n",
    "for i in range(len(Texttrain)):\n",
    "    if Texttrain[i] == 0:\n",
    "        if tweetId[i] not in id0:\n",
    "            lstTest0.append(0)\n",
    "            textTest0.append(textList[i])\n",
    "            idTest0.append(tweetId[i])\n",
    "            #count0 +=1\n",
    "        else:\n",
    "            pass\n",
    "    else:\n",
    "        if tweetId[i] not in id1:\n",
    "            lstTest1.append(1)\n",
    "            textTest1.append(textList[i])\n",
    "            idTest1.append(tweetId[i])\n",
    "            #count1+=1\n",
    "        else:\n",
    "            pass\n",
    "\n",
    "print(len(idTest1))"
   ]
  },
  {
   "cell_type": "code",
   "execution_count": 167,
   "metadata": {},
   "outputs": [],
   "source": [
    "df2= pd.DataFrame()"
   ]
  },
  {
   "cell_type": "code",
   "execution_count": 168,
   "metadata": {},
   "outputs": [],
   "source": [
    "df2['id'] =  idTest0+idTest1\n",
    "df2['text'] = textTest0+textTest1\n",
    "df2['Text_Only_Informative'] = lstTest0+lstTest1"
   ]
  },
  {
   "cell_type": "code",
   "execution_count": 169,
   "metadata": {},
   "outputs": [],
   "source": [
    "testing_data2 = count_vector.transform(df2['text'])\n",
    "y_test2 = df2['Text_Only_Informative']"
   ]
  },
  {
   "cell_type": "code",
   "execution_count": 170,
   "metadata": {},
   "outputs": [
    {
     "name": "stdout",
     "output_type": "stream",
     "text": [
      "Accuracy score:  0.7493163172288059\n",
      "932 941\n",
      "0.4983450383664976\n"
     ]
    }
   ],
   "source": [
    "predictionsNB2 = naive_bayes.predict(testing_data2)\n",
    "print('Accuracy score: ', format(accuracy_score(y_test2, predictionsNB2)))\n",
    "print(sum(y_test2),sum(predictionsNB2))\n",
    "print(roc_auc_score(y_test2, predictionsNB2))"
   ]
  },
  {
   "cell_type": "code",
   "execution_count": 171,
   "metadata": {},
   "outputs": [
    {
     "name": "stdout",
     "output_type": "stream",
     "text": [
      "Accuracy score:  0.8040109389243391\n",
      "932 1033\n",
      "0.49063272207049036\n"
     ]
    }
   ],
   "source": [
    "predictionsSVM2 = SVC_model.predict(testing_data2)\n",
    "print('Accuracy score: ', format(accuracy_score(y_test2, predictionsSVM2)))\n",
    "print(sum(y_test2),sum(predictionsSVM2))\n",
    "print(roc_auc_score(y_test2, predictionsSVM2))"
   ]
  },
  {
   "cell_type": "code",
   "execution_count": 172,
   "metadata": {},
   "outputs": [
    {
     "name": "stdout",
     "output_type": "stream",
     "text": [
      "Accuracy score:  0.7520510483135825\n",
      "932 938\n",
      "0.5074359474574067\n"
     ]
    }
   ],
   "source": [
    "predictionsRF2=clf.predict(testing_data2)\n",
    "print('Accuracy score: ', format(accuracy_score(y_test2, predictionsRF2)))\n",
    "print(sum(y_test2),sum(predictionsRF2))\n",
    "print(roc_auc_score(y_test2, predictionsRF2))"
   ]
  },
  {
   "cell_type": "code",
   "execution_count": 173,
   "metadata": {},
   "outputs": [],
   "source": [
    "dataTest = pd.read_csv(\"TestReqd.csv\")"
   ]
  },
  {
   "cell_type": "code",
   "execution_count": 174,
   "metadata": {},
   "outputs": [
    {
     "data": {
      "text/html": [
       "<div>\n",
       "<style scoped>\n",
       "    .dataframe tbody tr th:only-of-type {\n",
       "        vertical-align: middle;\n",
       "    }\n",
       "\n",
       "    .dataframe tbody tr th {\n",
       "        vertical-align: top;\n",
       "    }\n",
       "\n",
       "    .dataframe thead th {\n",
       "        text-align: right;\n",
       "    }\n",
       "</style>\n",
       "<table border=\"1\" class=\"dataframe\">\n",
       "  <thead>\n",
       "    <tr style=\"text-align: right;\">\n",
       "      <th></th>\n",
       "      <th>hashtags</th>\n",
       "      <th>id</th>\n",
       "      <th>possibly_sensitive</th>\n",
       "      <th>text</th>\n",
       "    </tr>\n",
       "  </thead>\n",
       "  <tbody>\n",
       "    <tr>\n",
       "      <th>0</th>\n",
       "      <td>MeToo</td>\n",
       "      <td>1052098315687346177</td>\n",
       "      <td>False</td>\n",
       "      <td>Such insensitive words. But alll laughing and ...</td>\n",
       "    </tr>\n",
       "    <tr>\n",
       "      <th>1</th>\n",
       "      <td>MeToo MeTooIndia</td>\n",
       "      <td>1052084623763591168</td>\n",
       "      <td>False</td>\n",
       "      <td>Be like Kali... Supporting through art for #Me...</td>\n",
       "    </tr>\n",
       "    <tr>\n",
       "      <th>2</th>\n",
       "      <td>MeToo</td>\n",
       "      <td>1052089712004014083</td>\n",
       "      <td>False</td>\n",
       "      <td>Men Understand Consent When a Gay Guy Touches ...</td>\n",
       "    </tr>\n",
       "    <tr>\n",
       "      <th>3</th>\n",
       "      <td>MeToo</td>\n",
       "      <td>1052089572870385665</td>\n",
       "      <td>False</td>\n",
       "      <td>Priya Ramani is going to be fighting MJ Akbar’...</td>\n",
       "    </tr>\n",
       "    <tr>\n",
       "      <th>4</th>\n",
       "      <td>MeToo</td>\n",
       "      <td>1052089363667017728</td>\n",
       "      <td>False</td>\n",
       "      <td>Must see this video. Tells what is legal for #...</td>\n",
       "    </tr>\n",
       "  </tbody>\n",
       "</table>\n",
       "</div>"
      ],
      "text/plain": [
       "           hashtags                   id  possibly_sensitive  \\\n",
       "0             MeToo  1052098315687346177               False   \n",
       "1  MeToo MeTooIndia  1052084623763591168               False   \n",
       "2             MeToo  1052089712004014083               False   \n",
       "3             MeToo  1052089572870385665               False   \n",
       "4             MeToo  1052089363667017728               False   \n",
       "\n",
       "                                                text  \n",
       "0  Such insensitive words. But alll laughing and ...  \n",
       "1  Be like Kali... Supporting through art for #Me...  \n",
       "2  Men Understand Consent When a Gay Guy Touches ...  \n",
       "3  Priya Ramani is going to be fighting MJ Akbar’...  \n",
       "4  Must see this video. Tells what is legal for #...  "
      ]
     },
     "execution_count": 174,
     "metadata": {},
     "output_type": "execute_result"
    }
   ],
   "source": [
    "dataTest.head()"
   ]
  },
  {
   "cell_type": "code",
   "execution_count": 175,
   "metadata": {},
   "outputs": [],
   "source": [
    "dataTest['text']=dataTest['text'].apply(round1)\n",
    "dataTest['text']=dataTest['text'].apply(token)\n",
    "for review in dataTest['text']:\n",
    "    for word in review:\n",
    "        word_lem.lemmatize(word)\n",
    "dataTest['text']=dataTest['text'].apply(untokenize)"
   ]
  },
  {
   "cell_type": "code",
   "execution_count": 176,
   "metadata": {},
   "outputs": [],
   "source": [
    "testing_dataMain = count_vector.transform(dataTest['text'])"
   ]
  },
  {
   "cell_type": "code",
   "execution_count": 177,
   "metadata": {},
   "outputs": [],
   "source": [
    "predictionsNBTest = naive_bayes.predict(testing_dataMain)"
   ]
  },
  {
   "cell_type": "code",
   "execution_count": 178,
   "metadata": {},
   "outputs": [],
   "source": [
    "predictionsRFTest = clf.predict(testing_dataMain)"
   ]
  },
  {
   "cell_type": "code",
   "execution_count": 179,
   "metadata": {},
   "outputs": [],
   "source": [
    "dataTest['Text_Only_Informative'] = predictionsRFTest\n",
    "#dataTest['Text_Only_Informative'] = predictionsNBTest\n",
    "dataTest.drop(['hashtags'], axis = 1, inplace = True)"
   ]
  },
  {
   "cell_type": "code",
   "execution_count": 180,
   "metadata": {},
   "outputs": [
    {
     "data": {
      "text/html": [
       "<div>\n",
       "<style scoped>\n",
       "    .dataframe tbody tr th:only-of-type {\n",
       "        vertical-align: middle;\n",
       "    }\n",
       "\n",
       "    .dataframe tbody tr th {\n",
       "        vertical-align: top;\n",
       "    }\n",
       "\n",
       "    .dataframe thead th {\n",
       "        text-align: right;\n",
       "    }\n",
       "</style>\n",
       "<table border=\"1\" class=\"dataframe\">\n",
       "  <thead>\n",
       "    <tr style=\"text-align: right;\">\n",
       "      <th></th>\n",
       "      <th>id</th>\n",
       "      <th>possibly_sensitive</th>\n",
       "      <th>text</th>\n",
       "      <th>Text_Only_Informative</th>\n",
       "    </tr>\n",
       "  </thead>\n",
       "  <tbody>\n",
       "    <tr>\n",
       "      <th>0</th>\n",
       "      <td>1052098315687346177</td>\n",
       "      <td>False</td>\n",
       "      <td>such insensitive words but alll laughing and a...</td>\n",
       "      <td>1</td>\n",
       "    </tr>\n",
       "    <tr>\n",
       "      <th>1</th>\n",
       "      <td>1052084623763591168</td>\n",
       "      <td>False</td>\n",
       "      <td>be like kali supporting through art for metoo ...</td>\n",
       "      <td>1</td>\n",
       "    </tr>\n",
       "    <tr>\n",
       "      <th>2</th>\n",
       "      <td>1052089712004014083</td>\n",
       "      <td>False</td>\n",
       "      <td>men understand consent when a gay guy touches ...</td>\n",
       "      <td>1</td>\n",
       "    </tr>\n",
       "    <tr>\n",
       "      <th>3</th>\n",
       "      <td>1052089572870385665</td>\n",
       "      <td>False</td>\n",
       "      <td>priya ramani is going to be fighting mj akbar ...</td>\n",
       "      <td>1</td>\n",
       "    </tr>\n",
       "    <tr>\n",
       "      <th>4</th>\n",
       "      <td>1052089363667017728</td>\n",
       "      <td>False</td>\n",
       "      <td>must see this video tells what is legal for me...</td>\n",
       "      <td>1</td>\n",
       "    </tr>\n",
       "  </tbody>\n",
       "</table>\n",
       "</div>"
      ],
      "text/plain": [
       "                    id  possibly_sensitive  \\\n",
       "0  1052098315687346177               False   \n",
       "1  1052084623763591168               False   \n",
       "2  1052089712004014083               False   \n",
       "3  1052089572870385665               False   \n",
       "4  1052089363667017728               False   \n",
       "\n",
       "                                                text  Text_Only_Informative  \n",
       "0  such insensitive words but alll laughing and a...                      1  \n",
       "1  be like kali supporting through art for metoo ...                      1  \n",
       "2  men understand consent when a gay guy touches ...                      1  \n",
       "3  priya ramani is going to be fighting mj akbar ...                      1  \n",
       "4  must see this video tells what is legal for me...                      1  "
      ]
     },
     "execution_count": 180,
     "metadata": {},
     "output_type": "execute_result"
    }
   ],
   "source": [
    "dataTest.head()"
   ]
  },
  {
   "cell_type": "code",
   "execution_count": 181,
   "metadata": {},
   "outputs": [],
   "source": [
    "dataTest.drop(['possibly_sensitive','text'], axis = 1, inplace = True)"
   ]
  },
  {
   "cell_type": "code",
   "execution_count": 182,
   "metadata": {},
   "outputs": [
    {
     "data": {
      "text/html": [
       "<div>\n",
       "<style scoped>\n",
       "    .dataframe tbody tr th:only-of-type {\n",
       "        vertical-align: middle;\n",
       "    }\n",
       "\n",
       "    .dataframe tbody tr th {\n",
       "        vertical-align: top;\n",
       "    }\n",
       "\n",
       "    .dataframe thead th {\n",
       "        text-align: right;\n",
       "    }\n",
       "</style>\n",
       "<table border=\"1\" class=\"dataframe\">\n",
       "  <thead>\n",
       "    <tr style=\"text-align: right;\">\n",
       "      <th></th>\n",
       "      <th>id</th>\n",
       "      <th>Text_Only_Informative</th>\n",
       "    </tr>\n",
       "  </thead>\n",
       "  <tbody>\n",
       "    <tr>\n",
       "      <th>0</th>\n",
       "      <td>1052098315687346177</td>\n",
       "      <td>1</td>\n",
       "    </tr>\n",
       "    <tr>\n",
       "      <th>1</th>\n",
       "      <td>1052084623763591168</td>\n",
       "      <td>1</td>\n",
       "    </tr>\n",
       "    <tr>\n",
       "      <th>2</th>\n",
       "      <td>1052089712004014083</td>\n",
       "      <td>1</td>\n",
       "    </tr>\n",
       "    <tr>\n",
       "      <th>3</th>\n",
       "      <td>1052089572870385665</td>\n",
       "      <td>1</td>\n",
       "    </tr>\n",
       "    <tr>\n",
       "      <th>4</th>\n",
       "      <td>1052089363667017728</td>\n",
       "      <td>1</td>\n",
       "    </tr>\n",
       "  </tbody>\n",
       "</table>\n",
       "</div>"
      ],
      "text/plain": [
       "                    id  Text_Only_Informative\n",
       "0  1052098315687346177                      1\n",
       "1  1052084623763591168                      1\n",
       "2  1052089712004014083                      1\n",
       "3  1052089572870385665                      1\n",
       "4  1052089363667017728                      1"
      ]
     },
     "execution_count": 182,
     "metadata": {},
     "output_type": "execute_result"
    }
   ],
   "source": [
    "dataTest.head()"
   ]
  },
  {
   "cell_type": "code",
   "execution_count": 183,
   "metadata": {},
   "outputs": [],
   "source": [
    "dataTest.to_csv(\"SubmissionTextRF1(1700.4000.20.42).csv\",index = False)\n",
    "\n",
    "#submission 1 has 1700 0, 4000 1, 20%test data random state 42 AUC around 0.5"
   ]
  },
  {
   "cell_type": "code",
   "execution_count": 184,
   "metadata": {},
   "outputs": [],
   "source": [
    "df.to_csv(\"Text(AUC0.50)Dataset.csv\",index = False)"
   ]
  },
  {
   "cell_type": "code",
   "execution_count": null,
   "metadata": {},
   "outputs": [],
   "source": []
  }
 ],
 "metadata": {
  "kernelspec": {
   "display_name": "Python 3",
   "language": "python",
   "name": "python3"
  },
  "language_info": {
   "codemirror_mode": {
    "name": "ipython",
    "version": 3
   },
   "file_extension": ".py",
   "mimetype": "text/x-python",
   "name": "python",
   "nbconvert_exporter": "python",
   "pygments_lexer": "ipython3",
   "version": "3.7.8"
  }
 },
 "nbformat": 4,
 "nbformat_minor": 2
}
