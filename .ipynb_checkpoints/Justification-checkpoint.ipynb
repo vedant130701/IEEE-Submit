{
 "cells": [
  {
   "cell_type": "code",
   "execution_count": 1,
   "metadata": {},
   "outputs": [],
   "source": [
    "import pandas as pd\n",
    "import numpy as np\n",
    "import nltk"
   ]
  },
  {
   "cell_type": "code",
   "execution_count": 2,
   "metadata": {},
   "outputs": [],
   "source": [
    "data =  pd.read_csv(\"ReqdData.csv\")"
   ]
  },
  {
   "cell_type": "code",
   "execution_count": 3,
   "metadata": {},
   "outputs": [
    {
     "data": {
      "text/html": [
       "<div>\n",
       "<style scoped>\n",
       "    .dataframe tbody tr th:only-of-type {\n",
       "        vertical-align: middle;\n",
       "    }\n",
       "\n",
       "    .dataframe tbody tr th {\n",
       "        vertical-align: top;\n",
       "    }\n",
       "\n",
       "    .dataframe thead th {\n",
       "        text-align: right;\n",
       "    }\n",
       "</style>\n",
       "<table border=\"1\" class=\"dataframe\">\n",
       "  <thead>\n",
       "    <tr style=\"text-align: right;\">\n",
       "      <th></th>\n",
       "      <th>hashtags</th>\n",
       "      <th>id</th>\n",
       "      <th>possibly_sensitive</th>\n",
       "      <th>text</th>\n",
       "      <th>Directed_Hate</th>\n",
       "      <th>Generalized_Hate</th>\n",
       "      <th>Sarcasm</th>\n",
       "      <th>Allegation</th>\n",
       "      <th>Justification</th>\n",
       "      <th>Refutation</th>\n",
       "      <th>Support</th>\n",
       "      <th>Oppose</th>\n",
       "    </tr>\n",
       "  </thead>\n",
       "  <tbody>\n",
       "    <tr>\n",
       "      <th>0</th>\n",
       "      <td>ImWithHer MeToo Hypocrites</td>\n",
       "      <td>1051939199195045890</td>\n",
       "      <td>False</td>\n",
       "      <td>What a shock hey, Old Bill is in the clear &amp;am...</td>\n",
       "      <td>1.0</td>\n",
       "      <td>0.0</td>\n",
       "      <td>0.0</td>\n",
       "      <td>1.0</td>\n",
       "      <td>1.0</td>\n",
       "      <td>0.0</td>\n",
       "      <td>0.0</td>\n",
       "      <td>0.0</td>\n",
       "    </tr>\n",
       "    <tr>\n",
       "      <th>1</th>\n",
       "      <td>MeToo</td>\n",
       "      <td>1050811961011838977</td>\n",
       "      <td>False</td>\n",
       "      <td>No Bucky, people are pissed off at ashleyperki...</td>\n",
       "      <td>0.0</td>\n",
       "      <td>0.0</td>\n",
       "      <td>0.0</td>\n",
       "      <td>0.0</td>\n",
       "      <td>1.0</td>\n",
       "      <td>0.0</td>\n",
       "      <td>1.0</td>\n",
       "      <td>0.0</td>\n",
       "    </tr>\n",
       "    <tr>\n",
       "      <th>2</th>\n",
       "      <td>BrettKavanuagh auspol sharrimarkson metoo</td>\n",
       "      <td>1049930526314782720</td>\n",
       "      <td>False</td>\n",
       "      <td>If Sarah Hanson Young thinks #BrettKavanuagh i...</td>\n",
       "      <td>0.0</td>\n",
       "      <td>0.0</td>\n",
       "      <td>0.0</td>\n",
       "      <td>0.0</td>\n",
       "      <td>0.0</td>\n",
       "      <td>0.0</td>\n",
       "      <td>1.0</td>\n",
       "      <td>0.0</td>\n",
       "    </tr>\n",
       "    <tr>\n",
       "      <th>3</th>\n",
       "      <td>MeToo</td>\n",
       "      <td>1051661466837901313</td>\n",
       "      <td>False</td>\n",
       "      <td>365 days\\n19 million tweets\\nOne powerful move...</td>\n",
       "      <td>0.0</td>\n",
       "      <td>0.0</td>\n",
       "      <td>0.0</td>\n",
       "      <td>0.0</td>\n",
       "      <td>0.0</td>\n",
       "      <td>0.0</td>\n",
       "      <td>1.0</td>\n",
       "      <td>0.0</td>\n",
       "    </tr>\n",
       "    <tr>\n",
       "      <th>4</th>\n",
       "      <td>HimToo MeToo</td>\n",
       "      <td>1051356183402033152</td>\n",
       "      <td>False</td>\n",
       "      <td>#HimToo: how an attempt to criticize #MeToo we...</td>\n",
       "      <td>0.0</td>\n",
       "      <td>0.0</td>\n",
       "      <td>0.0</td>\n",
       "      <td>0.0</td>\n",
       "      <td>0.0</td>\n",
       "      <td>0.0</td>\n",
       "      <td>0.0</td>\n",
       "      <td>0.0</td>\n",
       "    </tr>\n",
       "  </tbody>\n",
       "</table>\n",
       "</div>"
      ],
      "text/plain": [
       "                                    hashtags                   id  \\\n",
       "0                 ImWithHer MeToo Hypocrites  1051939199195045890   \n",
       "1                                      MeToo  1050811961011838977   \n",
       "2  BrettKavanuagh auspol sharrimarkson metoo  1049930526314782720   \n",
       "3                                      MeToo  1051661466837901313   \n",
       "4                               HimToo MeToo  1051356183402033152   \n",
       "\n",
       "   possibly_sensitive                                               text  \\\n",
       "0               False  What a shock hey, Old Bill is in the clear &am...   \n",
       "1               False  No Bucky, people are pissed off at ashleyperki...   \n",
       "2               False  If Sarah Hanson Young thinks #BrettKavanuagh i...   \n",
       "3               False  365 days\\n19 million tweets\\nOne powerful move...   \n",
       "4               False  #HimToo: how an attempt to criticize #MeToo we...   \n",
       "\n",
       "   Directed_Hate  Generalized_Hate  Sarcasm  Allegation  Justification  \\\n",
       "0            1.0               0.0      0.0         1.0            1.0   \n",
       "1            0.0               0.0      0.0         0.0            1.0   \n",
       "2            0.0               0.0      0.0         0.0            0.0   \n",
       "3            0.0               0.0      0.0         0.0            0.0   \n",
       "4            0.0               0.0      0.0         0.0            0.0   \n",
       "\n",
       "   Refutation  Support  Oppose  \n",
       "0         0.0      0.0     0.0  \n",
       "1         0.0      1.0     0.0  \n",
       "2         0.0      1.0     0.0  \n",
       "3         0.0      1.0     0.0  \n",
       "4         0.0      0.0     0.0  "
      ]
     },
     "execution_count": 3,
     "metadata": {},
     "output_type": "execute_result"
    }
   ],
   "source": [
    "data.head()"
   ]
  },
  {
   "cell_type": "code",
   "execution_count": 4,
   "metadata": {},
   "outputs": [],
   "source": [
    "from sklearn.model_selection import train_test_split\n",
    "from sklearn.feature_extraction.text import CountVectorizer\n",
    "from sklearn.metrics import accuracy_score, precision_score"
   ]
  },
  {
   "cell_type": "code",
   "execution_count": 5,
   "metadata": {},
   "outputs": [],
   "source": [
    "import re\n",
    "import string\n",
    "\n",
    "def clean_text_round1(text):\n",
    "    '''Make text lowercase, remove text in square brackets, remove punctuation and remove words containing numbers.'''\n",
    "    text = text.lower()\n",
    "    text = re.sub('\\[.*?\\]', '', text)\n",
    "    text = re.sub('[%s]' % re.escape(string.punctuation), '', text)\n",
    "    text = re.sub('\\w*\\d\\w*', '', text)\n",
    "    return text\n",
    "\n",
    "round1 = lambda x: clean_text_round1(x)"
   ]
  },
  {
   "cell_type": "code",
   "execution_count": 6,
   "metadata": {},
   "outputs": [],
   "source": [
    "data['text']=data['text'].apply(round1)"
   ]
  },
  {
   "cell_type": "code",
   "execution_count": 7,
   "metadata": {},
   "outputs": [
    {
     "data": {
      "text/html": [
       "<div>\n",
       "<style scoped>\n",
       "    .dataframe tbody tr th:only-of-type {\n",
       "        vertical-align: middle;\n",
       "    }\n",
       "\n",
       "    .dataframe tbody tr th {\n",
       "        vertical-align: top;\n",
       "    }\n",
       "\n",
       "    .dataframe thead th {\n",
       "        text-align: right;\n",
       "    }\n",
       "</style>\n",
       "<table border=\"1\" class=\"dataframe\">\n",
       "  <thead>\n",
       "    <tr style=\"text-align: right;\">\n",
       "      <th></th>\n",
       "      <th>hashtags</th>\n",
       "      <th>id</th>\n",
       "      <th>possibly_sensitive</th>\n",
       "      <th>text</th>\n",
       "      <th>Directed_Hate</th>\n",
       "      <th>Generalized_Hate</th>\n",
       "      <th>Sarcasm</th>\n",
       "      <th>Allegation</th>\n",
       "      <th>Justification</th>\n",
       "      <th>Refutation</th>\n",
       "      <th>Support</th>\n",
       "      <th>Oppose</th>\n",
       "    </tr>\n",
       "  </thead>\n",
       "  <tbody>\n",
       "    <tr>\n",
       "      <th>0</th>\n",
       "      <td>ImWithHer MeToo Hypocrites</td>\n",
       "      <td>1051939199195045890</td>\n",
       "      <td>False</td>\n",
       "      <td>what a shock hey old bill is in the clear amp ...</td>\n",
       "      <td>1.0</td>\n",
       "      <td>0.0</td>\n",
       "      <td>0.0</td>\n",
       "      <td>1.0</td>\n",
       "      <td>1.0</td>\n",
       "      <td>0.0</td>\n",
       "      <td>0.0</td>\n",
       "      <td>0.0</td>\n",
       "    </tr>\n",
       "    <tr>\n",
       "      <th>1</th>\n",
       "      <td>MeToo</td>\n",
       "      <td>1050811961011838977</td>\n",
       "      <td>False</td>\n",
       "      <td>no bucky people are pissed off at  for attacki...</td>\n",
       "      <td>0.0</td>\n",
       "      <td>0.0</td>\n",
       "      <td>0.0</td>\n",
       "      <td>0.0</td>\n",
       "      <td>1.0</td>\n",
       "      <td>0.0</td>\n",
       "      <td>1.0</td>\n",
       "      <td>0.0</td>\n",
       "    </tr>\n",
       "    <tr>\n",
       "      <th>2</th>\n",
       "      <td>BrettKavanuagh auspol sharrimarkson metoo</td>\n",
       "      <td>1049930526314782720</td>\n",
       "      <td>False</td>\n",
       "      <td>if sarah hanson young thinks brettkavanuagh is...</td>\n",
       "      <td>0.0</td>\n",
       "      <td>0.0</td>\n",
       "      <td>0.0</td>\n",
       "      <td>0.0</td>\n",
       "      <td>0.0</td>\n",
       "      <td>0.0</td>\n",
       "      <td>1.0</td>\n",
       "      <td>0.0</td>\n",
       "    </tr>\n",
       "    <tr>\n",
       "      <th>3</th>\n",
       "      <td>MeToo</td>\n",
       "      <td>1051661466837901313</td>\n",
       "      <td>False</td>\n",
       "      <td>days\\n million tweets\\none powerful movement\\...</td>\n",
       "      <td>0.0</td>\n",
       "      <td>0.0</td>\n",
       "      <td>0.0</td>\n",
       "      <td>0.0</td>\n",
       "      <td>0.0</td>\n",
       "      <td>0.0</td>\n",
       "      <td>1.0</td>\n",
       "      <td>0.0</td>\n",
       "    </tr>\n",
       "    <tr>\n",
       "      <th>4</th>\n",
       "      <td>HimToo MeToo</td>\n",
       "      <td>1051356183402033152</td>\n",
       "      <td>False</td>\n",
       "      <td>himtoo how an attempt to criticize metoo went ...</td>\n",
       "      <td>0.0</td>\n",
       "      <td>0.0</td>\n",
       "      <td>0.0</td>\n",
       "      <td>0.0</td>\n",
       "      <td>0.0</td>\n",
       "      <td>0.0</td>\n",
       "      <td>0.0</td>\n",
       "      <td>0.0</td>\n",
       "    </tr>\n",
       "  </tbody>\n",
       "</table>\n",
       "</div>"
      ],
      "text/plain": [
       "                                    hashtags                   id  \\\n",
       "0                 ImWithHer MeToo Hypocrites  1051939199195045890   \n",
       "1                                      MeToo  1050811961011838977   \n",
       "2  BrettKavanuagh auspol sharrimarkson metoo  1049930526314782720   \n",
       "3                                      MeToo  1051661466837901313   \n",
       "4                               HimToo MeToo  1051356183402033152   \n",
       "\n",
       "   possibly_sensitive                                               text  \\\n",
       "0               False  what a shock hey old bill is in the clear amp ...   \n",
       "1               False  no bucky people are pissed off at  for attacki...   \n",
       "2               False  if sarah hanson young thinks brettkavanuagh is...   \n",
       "3               False   days\\n million tweets\\none powerful movement\\...   \n",
       "4               False  himtoo how an attempt to criticize metoo went ...   \n",
       "\n",
       "   Directed_Hate  Generalized_Hate  Sarcasm  Allegation  Justification  \\\n",
       "0            1.0               0.0      0.0         1.0            1.0   \n",
       "1            0.0               0.0      0.0         0.0            1.0   \n",
       "2            0.0               0.0      0.0         0.0            0.0   \n",
       "3            0.0               0.0      0.0         0.0            0.0   \n",
       "4            0.0               0.0      0.0         0.0            0.0   \n",
       "\n",
       "   Refutation  Support  Oppose  \n",
       "0         0.0      0.0     0.0  \n",
       "1         0.0      1.0     0.0  \n",
       "2         0.0      1.0     0.0  \n",
       "3         0.0      1.0     0.0  \n",
       "4         0.0      0.0     0.0  "
      ]
     },
     "execution_count": 7,
     "metadata": {},
     "output_type": "execute_result"
    }
   ],
   "source": [
    "data.head()"
   ]
  },
  {
   "cell_type": "code",
   "execution_count": 8,
   "metadata": {},
   "outputs": [],
   "source": [
    "from nltk.tokenize import word_tokenize\n",
    "def token(list):\n",
    "    return (word_tokenize(list))\n",
    "data['text']=data['text'].apply(token)"
   ]
  },
  {
   "cell_type": "code",
   "execution_count": 9,
   "metadata": {},
   "outputs": [
    {
     "data": {
      "text/html": [
       "<div>\n",
       "<style scoped>\n",
       "    .dataframe tbody tr th:only-of-type {\n",
       "        vertical-align: middle;\n",
       "    }\n",
       "\n",
       "    .dataframe tbody tr th {\n",
       "        vertical-align: top;\n",
       "    }\n",
       "\n",
       "    .dataframe thead th {\n",
       "        text-align: right;\n",
       "    }\n",
       "</style>\n",
       "<table border=\"1\" class=\"dataframe\">\n",
       "  <thead>\n",
       "    <tr style=\"text-align: right;\">\n",
       "      <th></th>\n",
       "      <th>hashtags</th>\n",
       "      <th>id</th>\n",
       "      <th>possibly_sensitive</th>\n",
       "      <th>text</th>\n",
       "      <th>Directed_Hate</th>\n",
       "      <th>Generalized_Hate</th>\n",
       "      <th>Sarcasm</th>\n",
       "      <th>Allegation</th>\n",
       "      <th>Justification</th>\n",
       "      <th>Refutation</th>\n",
       "      <th>Support</th>\n",
       "      <th>Oppose</th>\n",
       "    </tr>\n",
       "  </thead>\n",
       "  <tbody>\n",
       "    <tr>\n",
       "      <th>0</th>\n",
       "      <td>ImWithHer MeToo Hypocrites</td>\n",
       "      <td>1051939199195045890</td>\n",
       "      <td>False</td>\n",
       "      <td>[what, a, shock, hey, old, bill, is, in, the, ...</td>\n",
       "      <td>1.0</td>\n",
       "      <td>0.0</td>\n",
       "      <td>0.0</td>\n",
       "      <td>1.0</td>\n",
       "      <td>1.0</td>\n",
       "      <td>0.0</td>\n",
       "      <td>0.0</td>\n",
       "      <td>0.0</td>\n",
       "    </tr>\n",
       "    <tr>\n",
       "      <th>1</th>\n",
       "      <td>MeToo</td>\n",
       "      <td>1050811961011838977</td>\n",
       "      <td>False</td>\n",
       "      <td>[no, bucky, people, are, pissed, off, at, for,...</td>\n",
       "      <td>0.0</td>\n",
       "      <td>0.0</td>\n",
       "      <td>0.0</td>\n",
       "      <td>0.0</td>\n",
       "      <td>1.0</td>\n",
       "      <td>0.0</td>\n",
       "      <td>1.0</td>\n",
       "      <td>0.0</td>\n",
       "    </tr>\n",
       "    <tr>\n",
       "      <th>2</th>\n",
       "      <td>BrettKavanuagh auspol sharrimarkson metoo</td>\n",
       "      <td>1049930526314782720</td>\n",
       "      <td>False</td>\n",
       "      <td>[if, sarah, hanson, young, thinks, brettkavanu...</td>\n",
       "      <td>0.0</td>\n",
       "      <td>0.0</td>\n",
       "      <td>0.0</td>\n",
       "      <td>0.0</td>\n",
       "      <td>0.0</td>\n",
       "      <td>0.0</td>\n",
       "      <td>1.0</td>\n",
       "      <td>0.0</td>\n",
       "    </tr>\n",
       "    <tr>\n",
       "      <th>3</th>\n",
       "      <td>MeToo</td>\n",
       "      <td>1051661466837901313</td>\n",
       "      <td>False</td>\n",
       "      <td>[days, million, tweets, one, powerful, movemen...</td>\n",
       "      <td>0.0</td>\n",
       "      <td>0.0</td>\n",
       "      <td>0.0</td>\n",
       "      <td>0.0</td>\n",
       "      <td>0.0</td>\n",
       "      <td>0.0</td>\n",
       "      <td>1.0</td>\n",
       "      <td>0.0</td>\n",
       "    </tr>\n",
       "    <tr>\n",
       "      <th>4</th>\n",
       "      <td>HimToo MeToo</td>\n",
       "      <td>1051356183402033152</td>\n",
       "      <td>False</td>\n",
       "      <td>[himtoo, how, an, attempt, to, criticize, meto...</td>\n",
       "      <td>0.0</td>\n",
       "      <td>0.0</td>\n",
       "      <td>0.0</td>\n",
       "      <td>0.0</td>\n",
       "      <td>0.0</td>\n",
       "      <td>0.0</td>\n",
       "      <td>0.0</td>\n",
       "      <td>0.0</td>\n",
       "    </tr>\n",
       "  </tbody>\n",
       "</table>\n",
       "</div>"
      ],
      "text/plain": [
       "                                    hashtags                   id  \\\n",
       "0                 ImWithHer MeToo Hypocrites  1051939199195045890   \n",
       "1                                      MeToo  1050811961011838977   \n",
       "2  BrettKavanuagh auspol sharrimarkson metoo  1049930526314782720   \n",
       "3                                      MeToo  1051661466837901313   \n",
       "4                               HimToo MeToo  1051356183402033152   \n",
       "\n",
       "   possibly_sensitive                                               text  \\\n",
       "0               False  [what, a, shock, hey, old, bill, is, in, the, ...   \n",
       "1               False  [no, bucky, people, are, pissed, off, at, for,...   \n",
       "2               False  [if, sarah, hanson, young, thinks, brettkavanu...   \n",
       "3               False  [days, million, tweets, one, powerful, movemen...   \n",
       "4               False  [himtoo, how, an, attempt, to, criticize, meto...   \n",
       "\n",
       "   Directed_Hate  Generalized_Hate  Sarcasm  Allegation  Justification  \\\n",
       "0            1.0               0.0      0.0         1.0            1.0   \n",
       "1            0.0               0.0      0.0         0.0            1.0   \n",
       "2            0.0               0.0      0.0         0.0            0.0   \n",
       "3            0.0               0.0      0.0         0.0            0.0   \n",
       "4            0.0               0.0      0.0         0.0            0.0   \n",
       "\n",
       "   Refutation  Support  Oppose  \n",
       "0         0.0      0.0     0.0  \n",
       "1         0.0      1.0     0.0  \n",
       "2         0.0      1.0     0.0  \n",
       "3         0.0      1.0     0.0  \n",
       "4         0.0      0.0     0.0  "
      ]
     },
     "execution_count": 9,
     "metadata": {},
     "output_type": "execute_result"
    }
   ],
   "source": [
    "data.head()"
   ]
  },
  {
   "cell_type": "code",
   "execution_count": 10,
   "metadata": {},
   "outputs": [],
   "source": [
    "from nltk.stem import wordnet\n",
    "from nltk.stem import WordNetLemmatizer\n",
    "word_lem=WordNetLemmatizer()\n",
    "for review in data['text']:\n",
    "    for word in review:\n",
    "        word_lem.lemmatize(word)\n",
    "def untokenize(list):\n",
    "    return ' '.join(list)\n",
    "data['text']=data['text'].apply(untokenize)"
   ]
  },
  {
   "cell_type": "code",
   "execution_count": 11,
   "metadata": {},
   "outputs": [
    {
     "data": {
      "text/html": [
       "<div>\n",
       "<style scoped>\n",
       "    .dataframe tbody tr th:only-of-type {\n",
       "        vertical-align: middle;\n",
       "    }\n",
       "\n",
       "    .dataframe tbody tr th {\n",
       "        vertical-align: top;\n",
       "    }\n",
       "\n",
       "    .dataframe thead th {\n",
       "        text-align: right;\n",
       "    }\n",
       "</style>\n",
       "<table border=\"1\" class=\"dataframe\">\n",
       "  <thead>\n",
       "    <tr style=\"text-align: right;\">\n",
       "      <th></th>\n",
       "      <th>hashtags</th>\n",
       "      <th>id</th>\n",
       "      <th>possibly_sensitive</th>\n",
       "      <th>text</th>\n",
       "      <th>Directed_Hate</th>\n",
       "      <th>Generalized_Hate</th>\n",
       "      <th>Sarcasm</th>\n",
       "      <th>Allegation</th>\n",
       "      <th>Justification</th>\n",
       "      <th>Refutation</th>\n",
       "      <th>Support</th>\n",
       "      <th>Oppose</th>\n",
       "    </tr>\n",
       "  </thead>\n",
       "  <tbody>\n",
       "    <tr>\n",
       "      <th>0</th>\n",
       "      <td>ImWithHer MeToo Hypocrites</td>\n",
       "      <td>1051939199195045890</td>\n",
       "      <td>False</td>\n",
       "      <td>what a shock hey old bill is in the clear amp ...</td>\n",
       "      <td>1.0</td>\n",
       "      <td>0.0</td>\n",
       "      <td>0.0</td>\n",
       "      <td>1.0</td>\n",
       "      <td>1.0</td>\n",
       "      <td>0.0</td>\n",
       "      <td>0.0</td>\n",
       "      <td>0.0</td>\n",
       "    </tr>\n",
       "    <tr>\n",
       "      <th>1</th>\n",
       "      <td>MeToo</td>\n",
       "      <td>1050811961011838977</td>\n",
       "      <td>False</td>\n",
       "      <td>no bucky people are pissed off at for attackin...</td>\n",
       "      <td>0.0</td>\n",
       "      <td>0.0</td>\n",
       "      <td>0.0</td>\n",
       "      <td>0.0</td>\n",
       "      <td>1.0</td>\n",
       "      <td>0.0</td>\n",
       "      <td>1.0</td>\n",
       "      <td>0.0</td>\n",
       "    </tr>\n",
       "    <tr>\n",
       "      <th>2</th>\n",
       "      <td>BrettKavanuagh auspol sharrimarkson metoo</td>\n",
       "      <td>1049930526314782720</td>\n",
       "      <td>False</td>\n",
       "      <td>if sarah hanson young thinks brettkavanuagh is...</td>\n",
       "      <td>0.0</td>\n",
       "      <td>0.0</td>\n",
       "      <td>0.0</td>\n",
       "      <td>0.0</td>\n",
       "      <td>0.0</td>\n",
       "      <td>0.0</td>\n",
       "      <td>1.0</td>\n",
       "      <td>0.0</td>\n",
       "    </tr>\n",
       "    <tr>\n",
       "      <th>3</th>\n",
       "      <td>MeToo</td>\n",
       "      <td>1051661466837901313</td>\n",
       "      <td>False</td>\n",
       "      <td>days million tweets one powerful movement toda...</td>\n",
       "      <td>0.0</td>\n",
       "      <td>0.0</td>\n",
       "      <td>0.0</td>\n",
       "      <td>0.0</td>\n",
       "      <td>0.0</td>\n",
       "      <td>0.0</td>\n",
       "      <td>1.0</td>\n",
       "      <td>0.0</td>\n",
       "    </tr>\n",
       "    <tr>\n",
       "      <th>4</th>\n",
       "      <td>HimToo MeToo</td>\n",
       "      <td>1051356183402033152</td>\n",
       "      <td>False</td>\n",
       "      <td>himtoo how an attempt to criticize metoo went ...</td>\n",
       "      <td>0.0</td>\n",
       "      <td>0.0</td>\n",
       "      <td>0.0</td>\n",
       "      <td>0.0</td>\n",
       "      <td>0.0</td>\n",
       "      <td>0.0</td>\n",
       "      <td>0.0</td>\n",
       "      <td>0.0</td>\n",
       "    </tr>\n",
       "  </tbody>\n",
       "</table>\n",
       "</div>"
      ],
      "text/plain": [
       "                                    hashtags                   id  \\\n",
       "0                 ImWithHer MeToo Hypocrites  1051939199195045890   \n",
       "1                                      MeToo  1050811961011838977   \n",
       "2  BrettKavanuagh auspol sharrimarkson metoo  1049930526314782720   \n",
       "3                                      MeToo  1051661466837901313   \n",
       "4                               HimToo MeToo  1051356183402033152   \n",
       "\n",
       "   possibly_sensitive                                               text  \\\n",
       "0               False  what a shock hey old bill is in the clear amp ...   \n",
       "1               False  no bucky people are pissed off at for attackin...   \n",
       "2               False  if sarah hanson young thinks brettkavanuagh is...   \n",
       "3               False  days million tweets one powerful movement toda...   \n",
       "4               False  himtoo how an attempt to criticize metoo went ...   \n",
       "\n",
       "   Directed_Hate  Generalized_Hate  Sarcasm  Allegation  Justification  \\\n",
       "0            1.0               0.0      0.0         1.0            1.0   \n",
       "1            0.0               0.0      0.0         0.0            1.0   \n",
       "2            0.0               0.0      0.0         0.0            0.0   \n",
       "3            0.0               0.0      0.0         0.0            0.0   \n",
       "4            0.0               0.0      0.0         0.0            0.0   \n",
       "\n",
       "   Refutation  Support  Oppose  \n",
       "0         0.0      0.0     0.0  \n",
       "1         0.0      1.0     0.0  \n",
       "2         0.0      1.0     0.0  \n",
       "3         0.0      1.0     0.0  \n",
       "4         0.0      0.0     0.0  "
      ]
     },
     "execution_count": 11,
     "metadata": {},
     "output_type": "execute_result"
    }
   ],
   "source": [
    "data.head()"
   ]
  },
  {
   "cell_type": "code",
   "execution_count": 12,
   "metadata": {},
   "outputs": [],
   "source": [
    "textList = data['text']\n",
    "Justtrain = data['Justification']\n",
    "tweetId = data['id']"
   ]
  },
  {
   "cell_type": "code",
   "execution_count": 13,
   "metadata": {},
   "outputs": [
    {
     "name": "stdout",
     "output_type": "stream",
     "text": [
      "227.0\n"
     ]
    }
   ],
   "source": [
    "print(sum(Justtrain))"
   ]
  },
  {
   "cell_type": "code",
   "execution_count": 14,
   "metadata": {},
   "outputs": [
    {
     "data": {
      "text/plain": [
       "0.0    6572\n",
       "1.0     227\n",
       "Name: Justification, dtype: int64"
      ]
     },
     "execution_count": 14,
     "metadata": {},
     "output_type": "execute_result"
    }
   ],
   "source": [
    "Justtrain.value_counts()"
   ]
  },
  {
   "cell_type": "code",
   "execution_count": 104,
   "metadata": {},
   "outputs": [
    {
     "name": "stdout",
     "output_type": "stream",
     "text": [
      "801\n"
     ]
    }
   ],
   "source": [
    "lst0 = []\n",
    "lst1 = []\n",
    "text0  = []\n",
    "text1 = []\n",
    "id0 = []\n",
    "id1 = []\n",
    "count0 = 0\n",
    "count1 = 0\n",
    "for i in range(len(Justtrain)):\n",
    "    if Justtrain[i] == 0:\n",
    "        if count0 <=800 :\n",
    "            lst0.append(0)\n",
    "            text0.append(textList[i])\n",
    "            id0.append(tweetId[i])\n",
    "            count0 +=1\n",
    "        else:\n",
    "            pass\n",
    "    else:\n",
    "        if count1 <=210:\n",
    "            lst1.append(1)\n",
    "            text1.append(textList[i])\n",
    "            id1.append(tweetId[i])\n",
    "            count1+=1\n",
    "        else:\n",
    "            pass\n",
    "\n",
    "print(len(id0))"
   ]
  },
  {
   "cell_type": "code",
   "execution_count": 105,
   "metadata": {},
   "outputs": [],
   "source": [
    "df = pd.DataFrame()"
   ]
  },
  {
   "cell_type": "code",
   "execution_count": 106,
   "metadata": {},
   "outputs": [],
   "source": [
    "df['id'] =id0+id1\n",
    "df['text'] = text0+text1\n",
    "df['Justification'] = lst0+lst1"
   ]
  },
  {
   "cell_type": "code",
   "execution_count": 107,
   "metadata": {},
   "outputs": [],
   "source": [
    "df = df.sample(frac=1).reset_index(drop=True)"
   ]
  },
  {
   "cell_type": "code",
   "execution_count": 108,
   "metadata": {},
   "outputs": [
    {
     "data": {
      "text/html": [
       "<div>\n",
       "<style scoped>\n",
       "    .dataframe tbody tr th:only-of-type {\n",
       "        vertical-align: middle;\n",
       "    }\n",
       "\n",
       "    .dataframe tbody tr th {\n",
       "        vertical-align: top;\n",
       "    }\n",
       "\n",
       "    .dataframe thead th {\n",
       "        text-align: right;\n",
       "    }\n",
       "</style>\n",
       "<table border=\"1\" class=\"dataframe\">\n",
       "  <thead>\n",
       "    <tr style=\"text-align: right;\">\n",
       "      <th></th>\n",
       "      <th>id</th>\n",
       "      <th>text</th>\n",
       "      <th>Justification</th>\n",
       "    </tr>\n",
       "  </thead>\n",
       "  <tbody>\n",
       "    <tr>\n",
       "      <th>0</th>\n",
       "      <td>1051976441519321089</td>\n",
       "      <td>heres the picture trump should have hanging in...</td>\n",
       "      <td>0</td>\n",
       "    </tr>\n",
       "    <tr>\n",
       "      <th>1</th>\n",
       "      <td>1051363135603572736</td>\n",
       "      <td>let us not doubt people who have made these re...</td>\n",
       "      <td>0</td>\n",
       "    </tr>\n",
       "    <tr>\n",
       "      <th>2</th>\n",
       "      <td>1053849876591591424</td>\n",
       "      <td>metoo actress accuses blah of sexual assault</td>\n",
       "      <td>1</td>\n",
       "    </tr>\n",
       "    <tr>\n",
       "      <th>3</th>\n",
       "      <td>1051588967395745792</td>\n",
       "      <td>with the metoo movement growing it is the hope...</td>\n",
       "      <td>0</td>\n",
       "    </tr>\n",
       "    <tr>\n",
       "      <th>4</th>\n",
       "      <td>1051587710060777472</td>\n",
       "      <td>metoo and you a conversation with rachael denh...</td>\n",
       "      <td>0</td>\n",
       "    </tr>\n",
       "  </tbody>\n",
       "</table>\n",
       "</div>"
      ],
      "text/plain": [
       "                    id                                               text  \\\n",
       "0  1051976441519321089  heres the picture trump should have hanging in...   \n",
       "1  1051363135603572736  let us not doubt people who have made these re...   \n",
       "2  1053849876591591424       metoo actress accuses blah of sexual assault   \n",
       "3  1051588967395745792  with the metoo movement growing it is the hope...   \n",
       "4  1051587710060777472  metoo and you a conversation with rachael denh...   \n",
       "\n",
       "   Justification  \n",
       "0              0  \n",
       "1              0  \n",
       "2              1  \n",
       "3              0  \n",
       "4              0  "
      ]
     },
     "execution_count": 108,
     "metadata": {},
     "output_type": "execute_result"
    }
   ],
   "source": [
    "df.head()"
   ]
  },
  {
   "cell_type": "code",
   "execution_count": 109,
   "metadata": {},
   "outputs": [
    {
     "data": {
      "text/html": [
       "<div>\n",
       "<style scoped>\n",
       "    .dataframe tbody tr th:only-of-type {\n",
       "        vertical-align: middle;\n",
       "    }\n",
       "\n",
       "    .dataframe tbody tr th {\n",
       "        vertical-align: top;\n",
       "    }\n",
       "\n",
       "    .dataframe thead th {\n",
       "        text-align: right;\n",
       "    }\n",
       "</style>\n",
       "<table border=\"1\" class=\"dataframe\">\n",
       "  <thead>\n",
       "    <tr style=\"text-align: right;\">\n",
       "      <th></th>\n",
       "      <th>id</th>\n",
       "      <th>text</th>\n",
       "      <th>Justification</th>\n",
       "    </tr>\n",
       "  </thead>\n",
       "  <tbody>\n",
       "    <tr>\n",
       "      <th>1007</th>\n",
       "      <td>1052127834892881920</td>\n",
       "      <td>must read she speaks for all of us please insi...</td>\n",
       "      <td>0</td>\n",
       "    </tr>\n",
       "    <tr>\n",
       "      <th>1008</th>\n",
       "      <td>1051474357845782528</td>\n",
       "      <td>million tweets later a look at metoo a year af...</td>\n",
       "      <td>0</td>\n",
       "    </tr>\n",
       "    <tr>\n",
       "      <th>1009</th>\n",
       "      <td>1051605389475831813</td>\n",
       "      <td>metoo movement lawyers weigh in delay not a pr...</td>\n",
       "      <td>0</td>\n",
       "    </tr>\n",
       "    <tr>\n",
       "      <th>1010</th>\n",
       "      <td>1051129419509587968</td>\n",
       "      <td>metoo journalists protest in delhi say sexual ...</td>\n",
       "      <td>0</td>\n",
       "    </tr>\n",
       "    <tr>\n",
       "      <th>1011</th>\n",
       "      <td>1051539928344014848</td>\n",
       "      <td>whats next for metoo after kavanaughs confirma...</td>\n",
       "      <td>0</td>\n",
       "    </tr>\n",
       "  </tbody>\n",
       "</table>\n",
       "</div>"
      ],
      "text/plain": [
       "                       id                                               text  \\\n",
       "1007  1052127834892881920  must read she speaks for all of us please insi...   \n",
       "1008  1051474357845782528  million tweets later a look at metoo a year af...   \n",
       "1009  1051605389475831813  metoo movement lawyers weigh in delay not a pr...   \n",
       "1010  1051129419509587968  metoo journalists protest in delhi say sexual ...   \n",
       "1011  1051539928344014848  whats next for metoo after kavanaughs confirma...   \n",
       "\n",
       "      Justification  \n",
       "1007              0  \n",
       "1008              0  \n",
       "1009              0  \n",
       "1010              0  \n",
       "1011              0  "
      ]
     },
     "execution_count": 109,
     "metadata": {},
     "output_type": "execute_result"
    }
   ],
   "source": [
    "df.tail()"
   ]
  },
  {
   "cell_type": "code",
   "execution_count": 110,
   "metadata": {},
   "outputs": [],
   "source": [
    "from sklearn.metrics import roc_auc_score"
   ]
  },
  {
   "cell_type": "code",
   "execution_count": 128,
   "metadata": {},
   "outputs": [],
   "source": [
    "X_train, X_test, y_train, y_test = train_test_split(df['text'], \n",
    "                                                    df['Justification'],test_size=0.20,\n",
    "                                                    random_state=42)"
   ]
  },
  {
   "cell_type": "code",
   "execution_count": 129,
   "metadata": {},
   "outputs": [],
   "source": [
    "count_vector = CountVectorizer(stop_words = 'english')"
   ]
  },
  {
   "cell_type": "code",
   "execution_count": 130,
   "metadata": {},
   "outputs": [],
   "source": [
    "training_data = count_vector.fit_transform(X_train)"
   ]
  },
  {
   "cell_type": "code",
   "execution_count": 131,
   "metadata": {},
   "outputs": [],
   "source": [
    "testing_data = count_vector.transform(X_test)"
   ]
  },
  {
   "cell_type": "code",
   "execution_count": 132,
   "metadata": {},
   "outputs": [],
   "source": [
    "from sklearn.naive_bayes import MultinomialNB\n",
    "#from sklearn.svm import SVC\n",
    "naive_bayes = MultinomialNB()\n",
    "naive_bayes.fit(training_data, y_train)\n",
    "predictionsNB = naive_bayes.predict(testing_data)"
   ]
  },
  {
   "cell_type": "code",
   "execution_count": 133,
   "metadata": {},
   "outputs": [
    {
     "name": "stdout",
     "output_type": "stream",
     "text": [
      "Accuracy score:  0.8374384236453202\n",
      "38 15\n",
      "0.6164274322169059\n"
     ]
    }
   ],
   "source": [
    "print('Accuracy score: ', format(accuracy_score(y_test, predictionsNB)))\n",
    "print(sum(y_test),sum(predictionsNB))\n",
    "print(roc_auc_score(y_test, predictionsNB))"
   ]
  },
  {
   "cell_type": "code",
   "execution_count": 134,
   "metadata": {},
   "outputs": [],
   "source": [
    "from sklearn import svm\n",
    "SVC_model = svm.SVC()\n",
    "SVC_model.fit(training_data, y_train)\n",
    "predictionsSVM = SVC_model.predict(testing_data)"
   ]
  },
  {
   "cell_type": "code",
   "execution_count": 135,
   "metadata": {},
   "outputs": [
    {
     "name": "stdout",
     "output_type": "stream",
     "text": [
      "Accuracy score:  0.8325123152709359\n",
      "38 4\n",
      "0.5526315789473684\n"
     ]
    }
   ],
   "source": [
    "print('Accuracy score: ', format(accuracy_score(y_test, predictionsSVM)))\n",
    "print(sum(y_test),sum(predictionsSVM))\n",
    "print(roc_auc_score(y_test, predictionsSVM))"
   ]
  },
  {
   "cell_type": "code",
   "execution_count": 136,
   "metadata": {},
   "outputs": [],
   "source": [
    "from sklearn.ensemble import RandomForestClassifier\n",
    "\n",
    "#Create a Gaussian Classifier\n",
    "clf=RandomForestClassifier(n_estimators=1000)\n",
    "\n",
    "#Train the model using the training sets y_pred=clf.predict(X_test)\n",
    "clf.fit(training_data, y_train)\n",
    "\n",
    "predictionsRF=clf.predict(testing_data)"
   ]
  },
  {
   "cell_type": "code",
   "execution_count": 137,
   "metadata": {},
   "outputs": [
    {
     "name": "stdout",
     "output_type": "stream",
     "text": [
      "Accuracy score:  0.8325123152709359\n",
      "38 12\n",
      "0.5931419457735247\n"
     ]
    }
   ],
   "source": [
    "print('Accuracy score: ', format(accuracy_score(y_test, predictionsRF)))\n",
    "print(sum(y_test),sum(predictionsRF))\n",
    "print(roc_auc_score(y_test, predictionsRF))"
   ]
  },
  {
   "cell_type": "code",
   "execution_count": 138,
   "metadata": {},
   "outputs": [
    {
     "name": "stdout",
     "output_type": "stream",
     "text": [
      "16\n"
     ]
    }
   ],
   "source": [
    "lstTest0 = []\n",
    "lstTest1 = []\n",
    "textTest0  = []\n",
    "textTest1 = []\n",
    "idTest0 = []\n",
    "idTest1 = []\n",
    "#count0 = 0\n",
    "#count1 = 0\n",
    "for i in range(len(Justtrain)):\n",
    "    if Justtrain[i] == 0:\n",
    "        if tweetId[i] not in id0:\n",
    "            lstTest0.append(0)\n",
    "            textTest0.append(textList[i])\n",
    "            idTest0.append(tweetId[i])\n",
    "            #count0 +=1\n",
    "        else:\n",
    "            pass\n",
    "    else:\n",
    "        if tweetId[i] not in id1:\n",
    "            lstTest1.append(1)\n",
    "            textTest1.append(textList[i])\n",
    "            idTest1.append(tweetId[i])\n",
    "            #count1+=1\n",
    "        else:\n",
    "            pass\n",
    "\n",
    "print(len(idTest1))"
   ]
  },
  {
   "cell_type": "code",
   "execution_count": 139,
   "metadata": {},
   "outputs": [],
   "source": [
    "df2= pd.DataFrame()"
   ]
  },
  {
   "cell_type": "code",
   "execution_count": 140,
   "metadata": {},
   "outputs": [],
   "source": [
    "df2['id'] =  idTest0+idTest1\n",
    "df2['text'] = textTest0+textTest1\n",
    "df2['Justification'] = lstTest0+lstTest1"
   ]
  },
  {
   "cell_type": "code",
   "execution_count": 141,
   "metadata": {},
   "outputs": [],
   "source": [
    "testing_data2 = count_vector.transform(df2['text'])\n",
    "y_test2 = df2['Justification']"
   ]
  },
  {
   "cell_type": "code",
   "execution_count": 142,
   "metadata": {},
   "outputs": [
    {
     "name": "stdout",
     "output_type": "stream",
     "text": [
      "Accuracy score:  0.7838258164852255\n",
      "16 1239\n",
      "0.45532619996534396\n"
     ]
    }
   ],
   "source": [
    "predictionsNB2 = naive_bayes.predict(testing_data2)\n",
    "print('Accuracy score: ', format(accuracy_score(y_test2, predictionsNB2)))\n",
    "print(sum(y_test2),sum(predictionsNB2))\n",
    "print(roc_auc_score(y_test2, predictionsNB2))"
   ]
  },
  {
   "cell_type": "code",
   "execution_count": 143,
   "metadata": {},
   "outputs": [
    {
     "name": "stdout",
     "output_type": "stream",
     "text": [
      "Accuracy score:  0.9628477622256782\n",
      "16 199\n",
      "0.4827586206896552\n"
     ]
    }
   ],
   "source": [
    "predictionsSVM2 = SVC_model.predict(testing_data2)\n",
    "print('Accuracy score: ', format(accuracy_score(y_test2, predictionsSVM2)))\n",
    "print(sum(y_test2),sum(predictionsSVM2))\n",
    "print(roc_auc_score(y_test2, predictionsSVM2))"
   ]
  },
  {
   "cell_type": "code",
   "execution_count": 144,
   "metadata": {},
   "outputs": [
    {
     "name": "stdout",
     "output_type": "stream",
     "text": [
      "Accuracy score:  0.8358389493692759\n",
      "16 948\n",
      "0.6372216686882689\n"
     ]
    }
   ],
   "source": [
    "predictionsRF2=clf.predict(testing_data2)\n",
    "print('Accuracy score: ', format(accuracy_score(y_test2, predictionsRF2)))\n",
    "print(sum(y_test2),sum(predictionsRF2))\n",
    "print(roc_auc_score(y_test2, predictionsRF2))"
   ]
  },
  {
   "cell_type": "code",
   "execution_count": 145,
   "metadata": {},
   "outputs": [],
   "source": [
    "dataTest = pd.read_csv(\"TestReqd.csv\")"
   ]
  },
  {
   "cell_type": "code",
   "execution_count": 146,
   "metadata": {},
   "outputs": [
    {
     "data": {
      "text/html": [
       "<div>\n",
       "<style scoped>\n",
       "    .dataframe tbody tr th:only-of-type {\n",
       "        vertical-align: middle;\n",
       "    }\n",
       "\n",
       "    .dataframe tbody tr th {\n",
       "        vertical-align: top;\n",
       "    }\n",
       "\n",
       "    .dataframe thead th {\n",
       "        text-align: right;\n",
       "    }\n",
       "</style>\n",
       "<table border=\"1\" class=\"dataframe\">\n",
       "  <thead>\n",
       "    <tr style=\"text-align: right;\">\n",
       "      <th></th>\n",
       "      <th>hashtags</th>\n",
       "      <th>id</th>\n",
       "      <th>possibly_sensitive</th>\n",
       "      <th>text</th>\n",
       "    </tr>\n",
       "  </thead>\n",
       "  <tbody>\n",
       "    <tr>\n",
       "      <th>0</th>\n",
       "      <td>MeToo</td>\n",
       "      <td>1052098315687346177</td>\n",
       "      <td>False</td>\n",
       "      <td>Such insensitive words. But alll laughing and ...</td>\n",
       "    </tr>\n",
       "    <tr>\n",
       "      <th>1</th>\n",
       "      <td>MeToo MeTooIndia</td>\n",
       "      <td>1052084623763591168</td>\n",
       "      <td>False</td>\n",
       "      <td>Be like Kali... Supporting through art for #Me...</td>\n",
       "    </tr>\n",
       "    <tr>\n",
       "      <th>2</th>\n",
       "      <td>MeToo</td>\n",
       "      <td>1052089712004014083</td>\n",
       "      <td>False</td>\n",
       "      <td>Men Understand Consent When a Gay Guy Touches ...</td>\n",
       "    </tr>\n",
       "    <tr>\n",
       "      <th>3</th>\n",
       "      <td>MeToo</td>\n",
       "      <td>1052089572870385665</td>\n",
       "      <td>False</td>\n",
       "      <td>Priya Ramani is going to be fighting MJ Akbar’...</td>\n",
       "    </tr>\n",
       "    <tr>\n",
       "      <th>4</th>\n",
       "      <td>MeToo</td>\n",
       "      <td>1052089363667017728</td>\n",
       "      <td>False</td>\n",
       "      <td>Must see this video. Tells what is legal for #...</td>\n",
       "    </tr>\n",
       "  </tbody>\n",
       "</table>\n",
       "</div>"
      ],
      "text/plain": [
       "           hashtags                   id  possibly_sensitive  \\\n",
       "0             MeToo  1052098315687346177               False   \n",
       "1  MeToo MeTooIndia  1052084623763591168               False   \n",
       "2             MeToo  1052089712004014083               False   \n",
       "3             MeToo  1052089572870385665               False   \n",
       "4             MeToo  1052089363667017728               False   \n",
       "\n",
       "                                                text  \n",
       "0  Such insensitive words. But alll laughing and ...  \n",
       "1  Be like Kali... Supporting through art for #Me...  \n",
       "2  Men Understand Consent When a Gay Guy Touches ...  \n",
       "3  Priya Ramani is going to be fighting MJ Akbar’...  \n",
       "4  Must see this video. Tells what is legal for #...  "
      ]
     },
     "execution_count": 146,
     "metadata": {},
     "output_type": "execute_result"
    }
   ],
   "source": [
    "dataTest.head()"
   ]
  },
  {
   "cell_type": "code",
   "execution_count": 147,
   "metadata": {},
   "outputs": [],
   "source": [
    "dataTest['text']=dataTest['text'].apply(round1)\n",
    "dataTest['text']=dataTest['text'].apply(token)\n",
    "for review in dataTest['text']:\n",
    "    for word in review:\n",
    "        word_lem.lemmatize(word)\n",
    "dataTest['text']=dataTest['text'].apply(untokenize)"
   ]
  },
  {
   "cell_type": "code",
   "execution_count": 148,
   "metadata": {},
   "outputs": [],
   "source": [
    "testing_dataMain = count_vector.transform(dataTest['text'])"
   ]
  },
  {
   "cell_type": "code",
   "execution_count": 149,
   "metadata": {},
   "outputs": [],
   "source": [
    "predictionsNBTest = naive_bayes.predict(testing_dataMain)"
   ]
  },
  {
   "cell_type": "code",
   "execution_count": 150,
   "metadata": {},
   "outputs": [],
   "source": [
    "predictionsRFTest = clf.predict(testing_dataMain)"
   ]
  },
  {
   "cell_type": "code",
   "execution_count": 151,
   "metadata": {},
   "outputs": [],
   "source": [
    "dataTest['Justification'] = predictionsRFTest\n",
    "#dataTest['Justification'] = predictionsNBTest\n",
    "dataTest.drop(['hashtags'], axis = 1, inplace = True)"
   ]
  },
  {
   "cell_type": "code",
   "execution_count": 152,
   "metadata": {},
   "outputs": [
    {
     "data": {
      "text/html": [
       "<div>\n",
       "<style scoped>\n",
       "    .dataframe tbody tr th:only-of-type {\n",
       "        vertical-align: middle;\n",
       "    }\n",
       "\n",
       "    .dataframe tbody tr th {\n",
       "        vertical-align: top;\n",
       "    }\n",
       "\n",
       "    .dataframe thead th {\n",
       "        text-align: right;\n",
       "    }\n",
       "</style>\n",
       "<table border=\"1\" class=\"dataframe\">\n",
       "  <thead>\n",
       "    <tr style=\"text-align: right;\">\n",
       "      <th></th>\n",
       "      <th>id</th>\n",
       "      <th>possibly_sensitive</th>\n",
       "      <th>text</th>\n",
       "      <th>Justification</th>\n",
       "    </tr>\n",
       "  </thead>\n",
       "  <tbody>\n",
       "    <tr>\n",
       "      <th>0</th>\n",
       "      <td>1052098315687346177</td>\n",
       "      <td>False</td>\n",
       "      <td>such insensitive words but alll laughing and a...</td>\n",
       "      <td>0</td>\n",
       "    </tr>\n",
       "    <tr>\n",
       "      <th>1</th>\n",
       "      <td>1052084623763591168</td>\n",
       "      <td>False</td>\n",
       "      <td>be like kali supporting through art for metoo ...</td>\n",
       "      <td>1</td>\n",
       "    </tr>\n",
       "    <tr>\n",
       "      <th>2</th>\n",
       "      <td>1052089712004014083</td>\n",
       "      <td>False</td>\n",
       "      <td>men understand consent when a gay guy touches ...</td>\n",
       "      <td>0</td>\n",
       "    </tr>\n",
       "    <tr>\n",
       "      <th>3</th>\n",
       "      <td>1052089572870385665</td>\n",
       "      <td>False</td>\n",
       "      <td>priya ramani is going to be fighting mj akbar ...</td>\n",
       "      <td>0</td>\n",
       "    </tr>\n",
       "    <tr>\n",
       "      <th>4</th>\n",
       "      <td>1052089363667017728</td>\n",
       "      <td>False</td>\n",
       "      <td>must see this video tells what is legal for me...</td>\n",
       "      <td>0</td>\n",
       "    </tr>\n",
       "  </tbody>\n",
       "</table>\n",
       "</div>"
      ],
      "text/plain": [
       "                    id  possibly_sensitive  \\\n",
       "0  1052098315687346177               False   \n",
       "1  1052084623763591168               False   \n",
       "2  1052089712004014083               False   \n",
       "3  1052089572870385665               False   \n",
       "4  1052089363667017728               False   \n",
       "\n",
       "                                                text  Justification  \n",
       "0  such insensitive words but alll laughing and a...              0  \n",
       "1  be like kali supporting through art for metoo ...              1  \n",
       "2  men understand consent when a gay guy touches ...              0  \n",
       "3  priya ramani is going to be fighting mj akbar ...              0  \n",
       "4  must see this video tells what is legal for me...              0  "
      ]
     },
     "execution_count": 152,
     "metadata": {},
     "output_type": "execute_result"
    }
   ],
   "source": [
    "dataTest.head()"
   ]
  },
  {
   "cell_type": "code",
   "execution_count": 153,
   "metadata": {},
   "outputs": [],
   "source": [
    "dataTest.drop(['possibly_sensitive','text'], axis = 1, inplace = True)"
   ]
  },
  {
   "cell_type": "code",
   "execution_count": 154,
   "metadata": {},
   "outputs": [
    {
     "data": {
      "text/html": [
       "<div>\n",
       "<style scoped>\n",
       "    .dataframe tbody tr th:only-of-type {\n",
       "        vertical-align: middle;\n",
       "    }\n",
       "\n",
       "    .dataframe tbody tr th {\n",
       "        vertical-align: top;\n",
       "    }\n",
       "\n",
       "    .dataframe thead th {\n",
       "        text-align: right;\n",
       "    }\n",
       "</style>\n",
       "<table border=\"1\" class=\"dataframe\">\n",
       "  <thead>\n",
       "    <tr style=\"text-align: right;\">\n",
       "      <th></th>\n",
       "      <th>id</th>\n",
       "      <th>Justification</th>\n",
       "    </tr>\n",
       "  </thead>\n",
       "  <tbody>\n",
       "    <tr>\n",
       "      <th>0</th>\n",
       "      <td>1052098315687346177</td>\n",
       "      <td>0</td>\n",
       "    </tr>\n",
       "    <tr>\n",
       "      <th>1</th>\n",
       "      <td>1052084623763591168</td>\n",
       "      <td>1</td>\n",
       "    </tr>\n",
       "    <tr>\n",
       "      <th>2</th>\n",
       "      <td>1052089712004014083</td>\n",
       "      <td>0</td>\n",
       "    </tr>\n",
       "    <tr>\n",
       "      <th>3</th>\n",
       "      <td>1052089572870385665</td>\n",
       "      <td>0</td>\n",
       "    </tr>\n",
       "    <tr>\n",
       "      <th>4</th>\n",
       "      <td>1052089363667017728</td>\n",
       "      <td>0</td>\n",
       "    </tr>\n",
       "  </tbody>\n",
       "</table>\n",
       "</div>"
      ],
      "text/plain": [
       "                    id  Justification\n",
       "0  1052098315687346177              0\n",
       "1  1052084623763591168              1\n",
       "2  1052089712004014083              0\n",
       "3  1052089572870385665              0\n",
       "4  1052089363667017728              0"
      ]
     },
     "execution_count": 154,
     "metadata": {},
     "output_type": "execute_result"
    }
   ],
   "source": [
    "dataTest.head()"
   ]
  },
  {
   "cell_type": "code",
   "execution_count": 155,
   "metadata": {},
   "outputs": [],
   "source": [
    "dataTest.to_csv(\"SubmissionJustRF1(800.210.20.42).csv\",index = False)\n",
    "\n",
    "#submission 1 has 800 0, 210 1, 20%test data random state 42 AUC Train - 0.5931419457735247 Test - 0.6372216686882689 with good accuracy(83%)\n"
   ]
  },
  {
   "cell_type": "code",
   "execution_count": 156,
   "metadata": {},
   "outputs": [],
   "source": [
    "df.to_csv(\"Just(AUC0.63)Dataset.csv\",index = False)"
   ]
  },
  {
   "cell_type": "code",
   "execution_count": null,
   "metadata": {},
   "outputs": [],
   "source": []
  }
 ],
 "metadata": {
  "kernelspec": {
   "display_name": "Python 3",
   "language": "python",
   "name": "python3"
  },
  "language_info": {
   "codemirror_mode": {
    "name": "ipython",
    "version": 3
   },
   "file_extension": ".py",
   "mimetype": "text/x-python",
   "name": "python",
   "nbconvert_exporter": "python",
   "pygments_lexer": "ipython3",
   "version": "3.8.3"
  }
 },
 "nbformat": 4,
 "nbformat_minor": 2
}
